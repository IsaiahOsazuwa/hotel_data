{
 "cells": [
  {
   "cell_type": "code",
   "execution_count": 2,
   "id": "38ce11ad",
   "metadata": {},
   "outputs": [],
   "source": [
    "import numpy as np\n",
    "import pandas as pd\n",
    "import matplotlib.pyplot as plt\n",
    "import seaborn as sns"
   ]
  },
  {
   "cell_type": "markdown",
   "id": "dc30ad5c",
   "metadata": {},
   "source": [
    "### Gathering the data"
   ]
  },
  {
   "cell_type": "code",
   "execution_count": null,
   "id": "55e78c92",
   "metadata": {},
   "outputs": [],
   "source": [
    "# Reading excel sheets into dataframes\n",
    "h18 = pd.read_excel('hotel_revenue_historical_data.xlsx', sheet_name= '2018')\n",
    "h19 = pd.read_excel('hotel_revenue_historical_data.xlsx', sheet_name= '2019')\n",
    "h20 = pd.read_excel('hotel_revenue_historical_data.xlsx', sheet_name= '2020')\n",
    "meal_cost = pd.read_excel('hotel_revenue_historical_data.xlsx', sheet_name= 'meal_cost')\n",
    "market_seg = pd.read_excel('hotel_revenue_historical_data.xlsx', sheet_name= 'market_segment')"
   ]
  },
  {
   "cell_type": "markdown",
   "id": "2bbf9604",
   "metadata": {},
   "source": [
    "### Accessing the data"
   ]
  },
  {
   "cell_type": "code",
   "execution_count": null,
   "id": "0dad6c4c",
   "metadata": {},
   "outputs": [],
   "source": [
    "# Checking the shape\n",
    "print(f'2018 shape : {h18.shape}')\n",
    "print(f'2019 shape : {h19.shape}')\n",
    "print(f'2020 shape : {h20.shape}')\n",
    "print(f'meal_cost : {meal_cost.shape}')\n",
    "print(f'market_seg : {market_seg.shape}')"
   ]
  },
  {
   "cell_type": "code",
   "execution_count": null,
   "id": "c8a7f448",
   "metadata": {},
   "outputs": [],
   "source": [
    "# Visual inspection of the dataframes\n",
    "h18.head()"
   ]
  },
  {
   "cell_type": "code",
   "execution_count": null,
   "id": "918a6676",
   "metadata": {},
   "outputs": [],
   "source": [
    "h19.head()"
   ]
  },
  {
   "cell_type": "code",
   "execution_count": null,
   "id": "e7cda2c2",
   "metadata": {},
   "outputs": [],
   "source": [
    "h20.head()"
   ]
  },
  {
   "cell_type": "code",
   "execution_count": null,
   "id": "068bdc5d",
   "metadata": {},
   "outputs": [],
   "source": [
    "meal_cost"
   ]
  },
  {
   "cell_type": "code",
   "execution_count": null,
   "id": "f238f04f",
   "metadata": {},
   "outputs": [],
   "source": [
    "market_seg"
   ]
  },
  {
   "cell_type": "code",
   "execution_count": null,
   "id": "b4d44faf",
   "metadata": {
    "scrolled": true
   },
   "outputs": [],
   "source": [
    "# Programmatic inspection of the hotel data\n",
    "h18.info()"
   ]
  },
  {
   "cell_type": "code",
   "execution_count": null,
   "id": "8b95cb2d",
   "metadata": {},
   "outputs": [],
   "source": [
    "h19.info()"
   ]
  },
  {
   "cell_type": "code",
   "execution_count": null,
   "id": "0976194c",
   "metadata": {},
   "outputs": [],
   "source": [
    "h20.info()"
   ]
  },
  {
   "cell_type": "code",
   "execution_count": null,
   "id": "62b385fa",
   "metadata": {},
   "outputs": [],
   "source": [
    "# Check to see if columns in the hotels dataframe are same\n",
    "assert (h18.columns == h19.columns).all()\n",
    "assert (h19.columns == h20.columns).all()"
   ]
  },
  {
   "cell_type": "code",
   "execution_count": null,
   "id": "5b890726",
   "metadata": {},
   "outputs": [],
   "source": [
    "# Check for missing values\n",
    "h18.isnull().sum()"
   ]
  },
  {
   "cell_type": "code",
   "execution_count": null,
   "id": "47ba3fbc",
   "metadata": {},
   "outputs": [],
   "source": [
    "h19.isnull().sum()"
   ]
  },
  {
   "cell_type": "code",
   "execution_count": null,
   "id": "474d3818",
   "metadata": {},
   "outputs": [],
   "source": [
    "h20.isnull().sum()"
   ]
  },
  {
   "cell_type": "code",
   "execution_count": null,
   "id": "339a893c",
   "metadata": {},
   "outputs": [],
   "source": [
    "# check for duplicated values\n",
    "h18.duplicated().sum()"
   ]
  },
  {
   "cell_type": "code",
   "execution_count": null,
   "id": "7bdf8a2c",
   "metadata": {},
   "outputs": [],
   "source": [
    "h19.duplicated().sum()"
   ]
  },
  {
   "cell_type": "code",
   "execution_count": null,
   "id": "796da0a9",
   "metadata": {},
   "outputs": [],
   "source": [
    "h20.duplicated().sum()"
   ]
  },
  {
   "cell_type": "code",
   "execution_count": null,
   "id": "76bccacf",
   "metadata": {},
   "outputs": [],
   "source": [
    "h19.meal.unique()"
   ]
  },
  {
   "cell_type": "code",
   "execution_count": null,
   "id": "46e37eed",
   "metadata": {},
   "outputs": [],
   "source": [
    "h20.meal.unique()"
   ]
  },
  {
   "cell_type": "code",
   "execution_count": null,
   "id": "23881329",
   "metadata": {},
   "outputs": [],
   "source": [
    "h18.meal.unique()"
   ]
  },
  {
   "cell_type": "code",
   "execution_count": null,
   "id": "7823f43b",
   "metadata": {},
   "outputs": [],
   "source": [
    "h18.market_segment.unique()"
   ]
  },
  {
   "cell_type": "code",
   "execution_count": null,
   "id": "78daa3e2",
   "metadata": {},
   "outputs": [],
   "source": [
    "h19.market_segment.unique()"
   ]
  },
  {
   "cell_type": "code",
   "execution_count": null,
   "id": "96f74090",
   "metadata": {},
   "outputs": [],
   "source": [
    "h20.market_segment.unique()"
   ]
  },
  {
   "cell_type": "markdown",
   "id": "ba7fc713",
   "metadata": {},
   "source": [
    "#### Structural Issue\n",
    "- The five dataframes should be one table as they have same or supplimenting data\n",
    "\n",
    "#### Quality Issues\n",
    "- The hotel dataframes contains duplicated values\n",
    "- Some columns have missing values\n",
    "- The children column should be integer not float"
   ]
  },
  {
   "cell_type": "markdown",
   "id": "3a2b107d",
   "metadata": {},
   "source": [
    "### Data cleaning"
   ]
  },
  {
   "cell_type": "code",
   "execution_count": null,
   "id": "582c9399",
   "metadata": {},
   "outputs": [],
   "source": [
    "# get a working copy to save original dataset\n",
    "h18_cl = h18.copy()\n",
    "h19_cl = h19.copy()\n",
    "h20_cl = h20.copy()\n",
    "meal_cost_cl = meal_cost.copy()\n",
    "market_seg_cl = market_seg.copy()"
   ]
  },
  {
   "cell_type": "markdown",
   "id": "08238467",
   "metadata": {},
   "source": [
    "#### Adrressing the structural issue\n",
    "- hotel data(h18, h19 and h20) have similar columns and content so we concatenate them together\n",
    "- meal cost has an additional column on the cost of various meal groups we merge into the hotel dataframe\n",
    "- market segment also have an additional data on the discount for the various market segment so we merge into the hotel dataframe."
   ]
  },
  {
   "cell_type": "code",
   "execution_count": null,
   "id": "951fce8b",
   "metadata": {},
   "outputs": [],
   "source": [
    "# concatenate hotel df togehter\n",
    "hotel = pd.concat([h18_cl, h19_cl, h20_cl], axis= 0, ignore_index= True)\n",
    "#test\n",
    "hotel.shape"
   ]
  },
  {
   "cell_type": "code",
   "execution_count": null,
   "id": "37dc2c60",
   "metadata": {},
   "outputs": [],
   "source": [
    "# rename the cost column in meal_cost properly\n",
    "meal_cost_cl.rename(columns= {'Cost':'meal_cost'}, inplace= True)\n",
    "# merge meal_cost to hotel\n",
    "hotel = hotel.merge(meal_cost_cl, on= 'meal',how = 'inner')\n",
    "# test\n",
    "assert 'meal_cost' in hotel.columns"
   ]
  },
  {
   "cell_type": "code",
   "execution_count": null,
   "id": "2f269d51",
   "metadata": {},
   "outputs": [],
   "source": [
    "# rename the discount column in market segment properly\n",
    "market_seg_cl.rename(columns={'Discount':'discount'}, inplace= True)\n",
    "# merge the market segment into hotel\n",
    "hotel = hotel.merge(market_seg_cl, on = 'market_segment', how = 'inner')\n",
    "# test\n",
    "assert 'discount' in hotel.columns"
   ]
  },
  {
   "cell_type": "code",
   "execution_count": null,
   "id": "c071f4a5",
   "metadata": {},
   "outputs": [],
   "source": [
    "# display 5 random rows\n",
    "hotel.sample(5)"
   ]
  },
  {
   "cell_type": "markdown",
   "id": "64c4adc8",
   "metadata": {},
   "source": [
    "#### Adressing quality issues\n",
    "- Remove duplicated columns\n",
    "- Convert children column to integer\n",
    "- Convert agent to string\n",
    "- Convert company to string\n",
    "- Treat missing values appropriately for columns children, agent, company and country"
   ]
  },
  {
   "cell_type": "code",
   "execution_count": null,
   "id": "d656e0d1",
   "metadata": {},
   "outputs": [],
   "source": [
    "# removing duplicated rows\n",
    "hotel.drop_duplicates(inplace= True)\n",
    "#test\n",
    "hotel.duplicated().sum()"
   ]
  },
  {
   "cell_type": "code",
   "execution_count": null,
   "id": "4adb6fc5",
   "metadata": {},
   "outputs": [],
   "source": [
    "# children column fillna with 0.0\n",
    "hotel.children.fillna(value= 0.0, inplace=True)\n",
    "# test\n",
    "hotel.children.isnull().sum()"
   ]
  },
  {
   "cell_type": "code",
   "execution_count": null,
   "id": "6ef1e95e",
   "metadata": {},
   "outputs": [],
   "source": [
    "# Convert children, agent and company to appropriate datatypes\n",
    "hotel.children = hotel.children.astype(int)\n",
    "hotel.agent = hotel.agent.astype(str)\n",
    "hotel.company = hotel.company.astype(str)\n",
    "#test\n",
    "print(type(hotel.children[0]))\n",
    "print(type(hotel.agent[0]))\n",
    "print(type(hotel.company[0]))"
   ]
  },
  {
   "cell_type": "code",
   "execution_count": null,
   "id": "29a46178",
   "metadata": {},
   "outputs": [],
   "source": [
    "#The agent column contains agent id of the agent that booked the hotel. Since we know that not all customers would use an agent,\n",
    "#it is safe to say that the null values are those customers that booked the hotel themselves without the aid of an agent. So we \n",
    "# would fill the agent column with none. Same applies to company as it contains id of company that booked or paid for booking.\n",
    "#For the country column we will simply fill with unknown as those customer probably didn't provide their country of origin.\n",
    "hotel.agent.fillna(value= 'none', inplace=True)\n",
    "hotel.company.fillna(value= 'none', inplace=True)\n",
    "hotel.country.fillna(value='unknown', inplace=True)\n",
    "#test\n",
    "hotel.isnull().sum().sum()"
   ]
  },
  {
   "cell_type": "code",
   "execution_count": null,
   "id": "2db05f70",
   "metadata": {},
   "outputs": [],
   "source": [
    "hotel.to_csv('hotel_data_cleaned')"
   ]
  },
  {
   "cell_type": "code",
   "execution_count": null,
   "id": "f3cfacc3",
   "metadata": {},
   "outputs": [],
   "source": [
    "hotel.info()"
   ]
  },
  {
   "cell_type": "code",
   "execution_count": null,
   "id": "c2a1679b",
   "metadata": {},
   "outputs": [],
   "source": [
    "hotel.market_segment.value_counts()"
   ]
  },
  {
   "cell_type": "code",
   "execution_count": null,
   "id": "a53760cc",
   "metadata": {},
   "outputs": [],
   "source": [
    "hotel.describe()"
   ]
  },
  {
   "cell_type": "markdown",
   "id": "e4716abc",
   "metadata": {},
   "source": [
    "### Feauture Generation\n",
    "\n",
    "##### Create Revenue\n",
    "- amount = lodging_cost + meal_cost\n",
    "- lodging_cost = adr*(stays_in_weekend_nights + stays_in_week_nights)\n",
    "- discount_amt = discount * amount\n",
    "- revenue = amount - discount_amt"
   ]
  },
  {
   "cell_type": "code",
   "execution_count": null,
   "id": "f9f2f7a9",
   "metadata": {},
   "outputs": [],
   "source": [
    "# create lodging_cost\n",
    "hotel['lodging_cost'] = hotel.adr * (hotel.stays_in_weekend_nights + hotel.stays_in_week_nights)\n",
    "# test\n",
    "hotel.lodging_cost.head()"
   ]
  },
  {
   "cell_type": "code",
   "execution_count": null,
   "id": "a2374976",
   "metadata": {},
   "outputs": [],
   "source": [
    "# create amount\n",
    "hotel['amount'] = hotel.lodging_cost + hotel.meal_cost\n",
    "# test\n",
    "hotel.amount.head()"
   ]
  },
  {
   "cell_type": "code",
   "execution_count": null,
   "id": "9ad560a8",
   "metadata": {},
   "outputs": [],
   "source": [
    "# create discount_amt\n",
    "hotel['discount_amt'] = hotel.discount * hotel.amount\n",
    "# test\n",
    "hotel.discount_amt.head()"
   ]
  },
  {
   "cell_type": "code",
   "execution_count": null,
   "id": "f2082aab",
   "metadata": {
    "scrolled": true
   },
   "outputs": [],
   "source": [
    "# create revenue\n",
    "hotel['revenue'] = hotel.amount - hotel.discount_amt\n",
    "# test\n",
    "hotel.revenue.head()"
   ]
  },
  {
   "cell_type": "markdown",
   "id": "e4965238",
   "metadata": {},
   "source": [
    "##### Create arrival date\n",
    "Using the arrival_date_year, arrival_date_month and arrival_date_day_of_month, we create a datetime object of arrival date."
   ]
  },
  {
   "cell_type": "code",
   "execution_count": null,
   "id": "5dca2427",
   "metadata": {},
   "outputs": [],
   "source": [
    "mon_map = {'January': 1, 'February': 2, 'March': 3, 'April':4, 'May':5, 'June': 6, 'July': 7, 'August': 8, 'September': 9, 'October': 10, 'November':11,'December':12}\n",
    "year =  hotel.arrival_date_year\n",
    "month = map(lambda x: mon_map[x], hotel.arrival_date_month)\n",
    "day = hotel.arrival_date_day_of_month\n",
    "dt = pd.DataFrame({'year': year, 'month':list(month), 'day': day})\n",
    "hotel['arrival_date'] = pd.to_datetime(dt)\n",
    "# test\n",
    "hotel.arrival_date.head()"
   ]
  },
  {
   "cell_type": "markdown",
   "id": "a59d93a6",
   "metadata": {},
   "source": [
    "We would no longer need these columns  arrival_date_week_number, arrival_date_day_of_month"
   ]
  },
  {
   "cell_type": "code",
   "execution_count": null,
   "id": "a0c51d75",
   "metadata": {},
   "outputs": [],
   "source": [
    "# drop the unneeded arrival columns\n",
    "hotel.drop(columns=[ 'arrival_date_week_number','arrival_date_day_of_month'], inplace=True)\n",
    "#test\n",
    "unneeded = ['arrival_date_week_number','arrival_date_day_of_month']\n",
    "for i in unneeded:\n",
    "   assert i not in hotel.columns "
   ]
  },
  {
   "cell_type": "markdown",
   "id": "933e7055",
   "metadata": {},
   "source": [
    "#### create desired_room_type\n",
    "create a variable to hold yes if guests were assigned the room they booked and no if not"
   ]
  },
  {
   "cell_type": "code",
   "execution_count": null,
   "id": "694a90dd",
   "metadata": {},
   "outputs": [],
   "source": [
    "hotel['desired_room_type'] = np.where(hotel.reserved_room_type == hotel.assigned_room_type, 'Yes', 'No')\n"
   ]
  },
  {
   "cell_type": "markdown",
   "id": "cb17f39c",
   "metadata": {},
   "source": [
    "### Save the data to csv"
   ]
  },
  {
   "cell_type": "code",
   "execution_count": null,
   "id": "39fdbcf6",
   "metadata": {},
   "outputs": [],
   "source": [
    "hotel.to_csv('hotel_with_rev')"
   ]
  },
  {
   "cell_type": "code",
   "execution_count": null,
   "id": "925b4c26",
   "metadata": {},
   "outputs": [],
   "source": [
    "hotel.info()"
   ]
  },
  {
   "cell_type": "markdown",
   "id": "43d47970",
   "metadata": {},
   "source": [
    "### Analysis"
   ]
  },
  {
   "cell_type": "markdown",
   "id": "bfdbf826",
   "metadata": {},
   "source": [
    "Q1. Is the hotel revenue growing pre year"
   ]
  },
  {
   "cell_type": "code",
   "execution_count": null,
   "id": "927dffc2",
   "metadata": {},
   "outputs": [],
   "source": [
    "rev_year = hotel.groupby(['arrival_date_year', 'hotel'])['revenue'].sum()\n",
    "rev_year = rev_year.reset_index()\n",
    "rev_year"
   ]
  },
  {
   "cell_type": "code",
   "execution_count": null,
   "id": "39267cb0",
   "metadata": {},
   "outputs": [],
   "source": [
    "plt.figure(figsize=(8,7))\n",
    "sns.barplot(data=rev_year, x = 'hotel', y = 'revenue', hue ='arrival_date_year')"
   ]
  },
  {
   "cell_type": "markdown",
   "id": "db7e2715",
   "metadata": {},
   "source": [
    "Q2. How revenue grows over the months"
   ]
  },
  {
   "cell_type": "code",
   "execution_count": null,
   "id": "56d547fe",
   "metadata": {},
   "outputs": [],
   "source": [
    "rev_mon = hotel.groupby(['arrival_date_year', 'arrival_date_month','hotel'])['required_car_parking_spaces','revenue'].sum()\n",
    "rev_mon = rev_mon.reset_index()\n",
    "rev_mon"
   ]
  },
  {
   "cell_type": "code",
   "execution_count": null,
   "id": "80d4ecc5",
   "metadata": {},
   "outputs": [],
   "source": [
    "rev_mon.arrival_date_month.unique()"
   ]
  },
  {
   "cell_type": "code",
   "execution_count": null,
   "id": "3523ddb2",
   "metadata": {},
   "outputs": [],
   "source": [
    "\n",
    "mon_map = {'January': 1, 'February': 2, 'March': 3, 'April':4, 'May':5, 'June': 6, 'July': 7, 'August': 8, 'September': 9, 'October': 10, 'November':11,'December':12}\n",
    "year =  rev_mon.arrival_date_year\n",
    "month = map(lambda x: mon_map[x], rev_mon.arrival_date_month)\n",
    "dt = pd.DataFrame({'year': year, 'month':list(month), 'day':1})\n",
    "rev_mon['arrival_date'] = pd.to_datetime(dt)"
   ]
  },
  {
   "cell_type": "code",
   "execution_count": null,
   "id": "9bf69dda",
   "metadata": {
    "scrolled": false
   },
   "outputs": [],
   "source": [
    "plt.figure(figsize= (15, 7))\n",
    "sns.lineplot(data= rev_mon, x = 'arrival_date', y = 'revenue', hue = 'hotel')"
   ]
  },
  {
   "cell_type": "code",
   "execution_count": null,
   "id": "e256c7d7",
   "metadata": {},
   "outputs": [],
   "source": []
  },
  {
   "cell_type": "code",
   "execution_count": null,
   "id": "066a8cdb",
   "metadata": {
    "scrolled": false
   },
   "outputs": [],
   "source": [
    "plt.figure(figsize= (15, 7))\n",
    "sns.lineplot(data= hotel, x = 'arrival_date', y = 'revenue', hue = 'hotel')"
   ]
  },
  {
   "cell_type": "markdown",
   "id": "f227d94e",
   "metadata": {},
   "source": [
    "Q3. Should Parking slot be increased?"
   ]
  },
  {
   "cell_type": "code",
   "execution_count": null,
   "id": "26ed7710",
   "metadata": {},
   "outputs": [],
   "source": [
    "hotel.info()"
   ]
  },
  {
   "cell_type": "code",
   "execution_count": null,
   "id": "a242143e",
   "metadata": {
    "scrolled": false
   },
   "outputs": [],
   "source": [
    "plt.figure(figsize= (15, 7))\n",
    "sns.lineplot(data= rev_mon, x = 'arrival_date', y = 'required_car_parking_spaces', hue = 'hotel')"
   ]
  },
  {
   "cell_type": "markdown",
   "id": "19c7dff6",
   "metadata": {},
   "source": [
    "#### Q4. How frequent is customer demand changed?"
   ]
  },
  {
   "cell_type": "code",
   "execution_count": null,
   "id": "5082ba7a",
   "metadata": {
    "scrolled": true
   },
   "outputs": [],
   "source": [
    "sns.countplot(data = hotel, x= 'desired_room_type', hue = 'hotel')"
   ]
  },
  {
   "cell_type": "code",
   "execution_count": null,
   "id": "42886b74",
   "metadata": {},
   "outputs": [],
   "source": [
    "rev_mon.columns"
   ]
  },
  {
   "cell_type": "code",
   "execution_count": null,
   "id": "62b27d4b",
   "metadata": {
    "scrolled": true
   },
   "outputs": [],
   "source": [
    "focus = hotel[['arrival_date_year', 'arrival_date_month', 'desired_room_type', 'hotel', ]]\n",
    "desired = focus.groupby(['arrival_date_year', 'arrival_date_month', 'desired_room_type']).count()\n",
    "desired = desired.reset_index()\n",
    "desired.head(2)"
   ]
  },
  {
   "cell_type": "code",
   "execution_count": null,
   "id": "b3e000d9",
   "metadata": {},
   "outputs": [],
   "source": [
    "\n",
    "#mon_map = {'January': 1, 'February': 2, 'March': 3, 'April':4, 'May':5, 'June': 6, 'July': 7, 'August': 8, 'September': 9, 'October': 10, 'November':11,'December':12}\n",
    "year =  desired.arrival_date_year\n",
    "month = map(lambda x: mon_map[x], desired.arrival_date_month)\n",
    "dt = pd.DataFrame({'year': year, 'month':list(month), 'day':1})\n",
    "desired['arrival_date'] = pd.to_datetime(dt)"
   ]
  },
  {
   "cell_type": "code",
   "execution_count": null,
   "id": "9f2118ff",
   "metadata": {},
   "outputs": [],
   "source": [
    "desired.head()"
   ]
  },
  {
   "cell_type": "code",
   "execution_count": null,
   "id": "0fc22f98",
   "metadata": {},
   "outputs": [],
   "source": [
    "plt.figure(figsize=(12,7))\n",
    "sns.lineplot(data=desired, x = 'arrival_date', y = 'hotel', hue='desired_room_type')"
   ]
  },
  {
   "cell_type": "markdown",
   "id": "8fa04d5e",
   "metadata": {},
   "source": [
    "#### Q5. How number of reservation and assigned room type varies for the various room type "
   ]
  },
  {
   "cell_type": "code",
   "execution_count": null,
   "id": "0fe6fe2d",
   "metadata": {},
   "outputs": [],
   "source": [
    "hotel.reserved_room_type.unique()"
   ]
  },
  {
   "cell_type": "code",
   "execution_count": null,
   "id": "54ae22c4",
   "metadata": {},
   "outputs": [],
   "source": [
    "booked_type = hotel.reserved_room_type.value_counts()\n",
    "assigned_type = hotel.assigned_room_type.value_counts()\n",
    "room_type = pd.concat([booked_type, assigned_type], axis=1)\n",
    "room_type.reset_index()"
   ]
  },
  {
   "cell_type": "code",
   "execution_count": null,
   "id": "4d59c059",
   "metadata": {},
   "outputs": [],
   "source": [
    "room_type.fillna(value= 0, inplace= True)\n",
    "room_type.reserved_room_type = room_type.reserved_room_type.astype(int)\n",
    "room_type"
   ]
  },
  {
   "cell_type": "code",
   "execution_count": null,
   "id": "f2a6887e",
   "metadata": {},
   "outputs": [],
   "source": [
    "width = 0.8\n",
    "plt.figure(figsize= (10, 7))\n",
    "plt.bar(room_type.index, room_type.reserved_room_type, width=width, \n",
    "        color='b', label='Reserved room type')\n",
    "plt.bar(room_type.index, room_type.assigned_room_type, \n",
    "        width=0.5*width, color='r', alpha=0.5, label='Assigned room type')\n",
    "\n",
    "#plt.xticks(room_type.index+width/2., ['T{}'.format(i) for i in range(len(room_type.reserved_room_type))] )\n",
    "\n",
    "\n",
    "plt.legend()\n",
    "\n",
    "plt.show()"
   ]
  },
  {
   "cell_type": "markdown",
   "id": "66fb1477",
   "metadata": {},
   "source": [
    "#### market segment"
   ]
  },
  {
   "cell_type": "code",
   "execution_count": null,
   "id": "c91511b9",
   "metadata": {},
   "outputs": [],
   "source": [
    "hotel.market_segment.unique()"
   ]
  },
  {
   "cell_type": "code",
   "execution_count": null,
   "id": "3d04e725",
   "metadata": {},
   "outputs": [],
   "source": [
    "hotel.hotel.head()"
   ]
  },
  {
   "cell_type": "code",
   "execution_count": null,
   "id": "d121e75a",
   "metadata": {
    "scrolled": false
   },
   "outputs": [],
   "source": [
    "mkseg = hotel.groupby(['market_segment','hotel'])['revenue'].sum()\n",
    "mkseg = mkseg.reset_index()"
   ]
  },
  {
   "cell_type": "code",
   "execution_count": null,
   "id": "d0a27a31",
   "metadata": {},
   "outputs": [],
   "source": [
    "plt.figure(figsize=(10,7))\n",
    "sns.barplot(data=mkseg, x='market_segment', y= 'revenue', hue = 'hotel')"
   ]
  },
  {
   "cell_type": "code",
   "execution_count": null,
   "id": "f221597c",
   "metadata": {},
   "outputs": [],
   "source": [
    "agents_df = hotel.groupby(['arrival_date_year','hotel','market_segment'])['agent'].count()\n",
    "agents_df = agents_df.reset_index()\n"
   ]
  },
  {
   "cell_type": "code",
   "execution_count": null,
   "id": "b1bf75a2",
   "metadata": {
    "scrolled": false
   },
   "outputs": [],
   "source": [
    "plt.figure(figsize=(12,6))\n",
    "sns.barplot(data=agents_df.query('arrival_date_year == 2019'), y = 'agent',  hue = 'hotel', x = 'market_segment')"
   ]
  },
  {
   "cell_type": "markdown",
   "id": "9c7c7a9d",
   "metadata": {},
   "source": [
    "#### customer type"
   ]
  },
  {
   "cell_type": "code",
   "execution_count": null,
   "id": "15fb2a55",
   "metadata": {},
   "outputs": [],
   "source": [
    "hotel.customer_type.unique()"
   ]
  },
  {
   "cell_type": "code",
   "execution_count": null,
   "id": "f9bfc4f0",
   "metadata": {},
   "outputs": [],
   "source": [
    "custype = hotel.groupby(['hotel','customer_type'])['arrival_date'].count()\n",
    "custype = custype.reset_index()\n",
    "custype.columns = [['hotel','customer_type','count']]\n",
    "custype"
   ]
  },
  {
   "cell_type": "code",
   "execution_count": null,
   "id": "16f36aae",
   "metadata": {},
   "outputs": [],
   "source": []
  }
 ],
 "metadata": {
  "kernelspec": {
   "display_name": "Python 3 (ipykernel)",
   "language": "python",
   "name": "python3"
  },
  "language_info": {
   "codemirror_mode": {
    "name": "ipython",
    "version": 3
   },
   "file_extension": ".py",
   "mimetype": "text/x-python",
   "name": "python",
   "nbconvert_exporter": "python",
   "pygments_lexer": "ipython3",
   "version": "3.9.7"
  }
 },
 "nbformat": 4,
 "nbformat_minor": 5
}
