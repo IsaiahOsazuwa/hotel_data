{
 "cells": [
  {
   "cell_type": "code",
   "execution_count": 79,
   "id": "38ce11ad",
   "metadata": {},
   "outputs": [],
   "source": [
    "import numpy as np\n",
    "import pandas as pd\n",
    "import matplotlib.pyplot as plt\n",
    "import seaborn as sns"
   ]
  },
  {
   "cell_type": "markdown",
   "id": "dc30ad5c",
   "metadata": {},
   "source": [
    "### Gathering the data"
   ]
  },
  {
   "cell_type": "code",
   "execution_count": 80,
   "id": "55e78c92",
   "metadata": {},
   "outputs": [],
   "source": [
    "# Reading excel sheets into dataframes\n",
    "h18 = pd.read_excel('hotel_revenue_historical_data.xlsx', sheet_name= '2018')\n",
    "h19 = pd.read_excel('hotel_revenue_historical_data.xlsx', sheet_name= '2019')\n",
    "h20 = pd.read_excel('hotel_revenue_historical_data.xlsx', sheet_name= '2020')\n",
    "meal_cost = pd.read_excel('hotel_revenue_historical_data.xlsx', sheet_name= 'meal_cost')\n",
    "market_seg = pd.read_excel('hotel_revenue_historical_data.xlsx', sheet_name= 'market_segment')"
   ]
  },
  {
   "cell_type": "markdown",
   "id": "2bbf9604",
   "metadata": {},
   "source": [
    "### Accessing the data"
   ]
  },
  {
   "cell_type": "code",
   "execution_count": 81,
   "id": "0dad6c4c",
   "metadata": {},
   "outputs": [
    {
     "name": "stdout",
     "output_type": "stream",
     "text": [
      "2018 shape : (21996, 32)\n",
      "2019 shape : (79264, 32)\n",
      "2020 shape : (40687, 32)\n",
      "meal_cost : (5, 2)\n",
      "market_seg : (8, 2)\n"
     ]
    }
   ],
   "source": [
    "# Checking the shape\n",
    "print(f'2018 shape : {h18.shape}')\n",
    "print(f'2019 shape : {h19.shape}')\n",
    "print(f'2020 shape : {h20.shape}')\n",
    "print(f'meal_cost : {meal_cost.shape}')\n",
    "print(f'market_seg : {market_seg.shape}')"
   ]
  },
  {
   "cell_type": "code",
   "execution_count": 82,
   "id": "c8a7f448",
   "metadata": {},
   "outputs": [
    {
     "data": {
      "text/html": [
       "<div>\n",
       "<style scoped>\n",
       "    .dataframe tbody tr th:only-of-type {\n",
       "        vertical-align: middle;\n",
       "    }\n",
       "\n",
       "    .dataframe tbody tr th {\n",
       "        vertical-align: top;\n",
       "    }\n",
       "\n",
       "    .dataframe thead th {\n",
       "        text-align: right;\n",
       "    }\n",
       "</style>\n",
       "<table border=\"1\" class=\"dataframe\">\n",
       "  <thead>\n",
       "    <tr style=\"text-align: right;\">\n",
       "      <th></th>\n",
       "      <th>hotel</th>\n",
       "      <th>is_canceled</th>\n",
       "      <th>lead_time</th>\n",
       "      <th>arrival_date_year</th>\n",
       "      <th>arrival_date_month</th>\n",
       "      <th>arrival_date_week_number</th>\n",
       "      <th>arrival_date_day_of_month</th>\n",
       "      <th>stays_in_weekend_nights</th>\n",
       "      <th>stays_in_week_nights</th>\n",
       "      <th>adults</th>\n",
       "      <th>...</th>\n",
       "      <th>deposit_type</th>\n",
       "      <th>agent</th>\n",
       "      <th>company</th>\n",
       "      <th>days_in_waiting_list</th>\n",
       "      <th>customer_type</th>\n",
       "      <th>adr</th>\n",
       "      <th>required_car_parking_spaces</th>\n",
       "      <th>total_of_special_requests</th>\n",
       "      <th>reservation_status</th>\n",
       "      <th>reservation_status_date</th>\n",
       "    </tr>\n",
       "  </thead>\n",
       "  <tbody>\n",
       "    <tr>\n",
       "      <th>0</th>\n",
       "      <td>Resort Hotel</td>\n",
       "      <td>1</td>\n",
       "      <td>85</td>\n",
       "      <td>2018</td>\n",
       "      <td>July</td>\n",
       "      <td>27</td>\n",
       "      <td>1</td>\n",
       "      <td>0</td>\n",
       "      <td>3</td>\n",
       "      <td>2</td>\n",
       "      <td>...</td>\n",
       "      <td>No Deposit</td>\n",
       "      <td>240.0</td>\n",
       "      <td>NaN</td>\n",
       "      <td>0</td>\n",
       "      <td>Transient</td>\n",
       "      <td>82.0</td>\n",
       "      <td>0</td>\n",
       "      <td>1</td>\n",
       "      <td>Canceled</td>\n",
       "      <td>2018-05-06</td>\n",
       "    </tr>\n",
       "    <tr>\n",
       "      <th>1</th>\n",
       "      <td>Resort Hotel</td>\n",
       "      <td>1</td>\n",
       "      <td>75</td>\n",
       "      <td>2018</td>\n",
       "      <td>July</td>\n",
       "      <td>27</td>\n",
       "      <td>1</td>\n",
       "      <td>0</td>\n",
       "      <td>3</td>\n",
       "      <td>2</td>\n",
       "      <td>...</td>\n",
       "      <td>No Deposit</td>\n",
       "      <td>15.0</td>\n",
       "      <td>NaN</td>\n",
       "      <td>0</td>\n",
       "      <td>Transient</td>\n",
       "      <td>105.5</td>\n",
       "      <td>0</td>\n",
       "      <td>0</td>\n",
       "      <td>Canceled</td>\n",
       "      <td>2018-04-22</td>\n",
       "    </tr>\n",
       "    <tr>\n",
       "      <th>2</th>\n",
       "      <td>Resort Hotel</td>\n",
       "      <td>1</td>\n",
       "      <td>23</td>\n",
       "      <td>2018</td>\n",
       "      <td>July</td>\n",
       "      <td>27</td>\n",
       "      <td>1</td>\n",
       "      <td>0</td>\n",
       "      <td>4</td>\n",
       "      <td>2</td>\n",
       "      <td>...</td>\n",
       "      <td>No Deposit</td>\n",
       "      <td>240.0</td>\n",
       "      <td>NaN</td>\n",
       "      <td>0</td>\n",
       "      <td>Transient</td>\n",
       "      <td>123.0</td>\n",
       "      <td>0</td>\n",
       "      <td>0</td>\n",
       "      <td>Canceled</td>\n",
       "      <td>2018-06-23</td>\n",
       "    </tr>\n",
       "    <tr>\n",
       "      <th>3</th>\n",
       "      <td>Resort Hotel</td>\n",
       "      <td>1</td>\n",
       "      <td>60</td>\n",
       "      <td>2018</td>\n",
       "      <td>July</td>\n",
       "      <td>27</td>\n",
       "      <td>1</td>\n",
       "      <td>2</td>\n",
       "      <td>5</td>\n",
       "      <td>2</td>\n",
       "      <td>...</td>\n",
       "      <td>No Deposit</td>\n",
       "      <td>240.0</td>\n",
       "      <td>NaN</td>\n",
       "      <td>0</td>\n",
       "      <td>Transient</td>\n",
       "      <td>107.0</td>\n",
       "      <td>0</td>\n",
       "      <td>2</td>\n",
       "      <td>Canceled</td>\n",
       "      <td>2018-05-11</td>\n",
       "    </tr>\n",
       "    <tr>\n",
       "      <th>4</th>\n",
       "      <td>Resort Hotel</td>\n",
       "      <td>1</td>\n",
       "      <td>96</td>\n",
       "      <td>2018</td>\n",
       "      <td>July</td>\n",
       "      <td>27</td>\n",
       "      <td>1</td>\n",
       "      <td>2</td>\n",
       "      <td>8</td>\n",
       "      <td>2</td>\n",
       "      <td>...</td>\n",
       "      <td>No Deposit</td>\n",
       "      <td>NaN</td>\n",
       "      <td>NaN</td>\n",
       "      <td>0</td>\n",
       "      <td>Transient</td>\n",
       "      <td>108.3</td>\n",
       "      <td>0</td>\n",
       "      <td>2</td>\n",
       "      <td>Canceled</td>\n",
       "      <td>2018-05-29</td>\n",
       "    </tr>\n",
       "  </tbody>\n",
       "</table>\n",
       "<p>5 rows × 32 columns</p>\n",
       "</div>"
      ],
      "text/plain": [
       "          hotel  is_canceled  lead_time  arrival_date_year arrival_date_month  \\\n",
       "0  Resort Hotel            1         85               2018               July   \n",
       "1  Resort Hotel            1         75               2018               July   \n",
       "2  Resort Hotel            1         23               2018               July   \n",
       "3  Resort Hotel            1         60               2018               July   \n",
       "4  Resort Hotel            1         96               2018               July   \n",
       "\n",
       "   arrival_date_week_number  arrival_date_day_of_month  \\\n",
       "0                        27                          1   \n",
       "1                        27                          1   \n",
       "2                        27                          1   \n",
       "3                        27                          1   \n",
       "4                        27                          1   \n",
       "\n",
       "   stays_in_weekend_nights  stays_in_week_nights  adults  ...  deposit_type  \\\n",
       "0                        0                     3       2  ...    No Deposit   \n",
       "1                        0                     3       2  ...    No Deposit   \n",
       "2                        0                     4       2  ...    No Deposit   \n",
       "3                        2                     5       2  ...    No Deposit   \n",
       "4                        2                     8       2  ...    No Deposit   \n",
       "\n",
       "   agent company days_in_waiting_list customer_type    adr  \\\n",
       "0  240.0     NaN                    0     Transient   82.0   \n",
       "1   15.0     NaN                    0     Transient  105.5   \n",
       "2  240.0     NaN                    0     Transient  123.0   \n",
       "3  240.0     NaN                    0     Transient  107.0   \n",
       "4    NaN     NaN                    0     Transient  108.3   \n",
       "\n",
       "   required_car_parking_spaces  total_of_special_requests  reservation_status  \\\n",
       "0                            0                          1            Canceled   \n",
       "1                            0                          0            Canceled   \n",
       "2                            0                          0            Canceled   \n",
       "3                            0                          2            Canceled   \n",
       "4                            0                          2            Canceled   \n",
       "\n",
       "  reservation_status_date  \n",
       "0              2018-05-06  \n",
       "1              2018-04-22  \n",
       "2              2018-06-23  \n",
       "3              2018-05-11  \n",
       "4              2018-05-29  \n",
       "\n",
       "[5 rows x 32 columns]"
      ]
     },
     "execution_count": 82,
     "metadata": {},
     "output_type": "execute_result"
    }
   ],
   "source": [
    "# Visual inspection of the dataframes\n",
    "h18.head()"
   ]
  },
  {
   "cell_type": "code",
   "execution_count": 83,
   "id": "918a6676",
   "metadata": {},
   "outputs": [
    {
     "data": {
      "text/html": [
       "<div>\n",
       "<style scoped>\n",
       "    .dataframe tbody tr th:only-of-type {\n",
       "        vertical-align: middle;\n",
       "    }\n",
       "\n",
       "    .dataframe tbody tr th {\n",
       "        vertical-align: top;\n",
       "    }\n",
       "\n",
       "    .dataframe thead th {\n",
       "        text-align: right;\n",
       "    }\n",
       "</style>\n",
       "<table border=\"1\" class=\"dataframe\">\n",
       "  <thead>\n",
       "    <tr style=\"text-align: right;\">\n",
       "      <th></th>\n",
       "      <th>hotel</th>\n",
       "      <th>is_canceled</th>\n",
       "      <th>lead_time</th>\n",
       "      <th>arrival_date_year</th>\n",
       "      <th>arrival_date_month</th>\n",
       "      <th>arrival_date_week_number</th>\n",
       "      <th>arrival_date_day_of_month</th>\n",
       "      <th>stays_in_weekend_nights</th>\n",
       "      <th>stays_in_week_nights</th>\n",
       "      <th>adults</th>\n",
       "      <th>...</th>\n",
       "      <th>deposit_type</th>\n",
       "      <th>agent</th>\n",
       "      <th>company</th>\n",
       "      <th>days_in_waiting_list</th>\n",
       "      <th>customer_type</th>\n",
       "      <th>adr</th>\n",
       "      <th>required_car_parking_spaces</th>\n",
       "      <th>total_of_special_requests</th>\n",
       "      <th>reservation_status</th>\n",
       "      <th>reservation_status_date</th>\n",
       "    </tr>\n",
       "  </thead>\n",
       "  <tbody>\n",
       "    <tr>\n",
       "      <th>0</th>\n",
       "      <td>Resort Hotel</td>\n",
       "      <td>1</td>\n",
       "      <td>20</td>\n",
       "      <td>2019</td>\n",
       "      <td>January</td>\n",
       "      <td>1</td>\n",
       "      <td>1</td>\n",
       "      <td>0</td>\n",
       "      <td>2</td>\n",
       "      <td>2</td>\n",
       "      <td>...</td>\n",
       "      <td>No Deposit</td>\n",
       "      <td>240.0</td>\n",
       "      <td>NaN</td>\n",
       "      <td>0</td>\n",
       "      <td>Transient</td>\n",
       "      <td>119.0</td>\n",
       "      <td>0</td>\n",
       "      <td>0</td>\n",
       "      <td>Canceled</td>\n",
       "      <td>2018-12-22</td>\n",
       "    </tr>\n",
       "    <tr>\n",
       "      <th>1</th>\n",
       "      <td>Resort Hotel</td>\n",
       "      <td>1</td>\n",
       "      <td>76</td>\n",
       "      <td>2019</td>\n",
       "      <td>January</td>\n",
       "      <td>1</td>\n",
       "      <td>1</td>\n",
       "      <td>1</td>\n",
       "      <td>2</td>\n",
       "      <td>2</td>\n",
       "      <td>...</td>\n",
       "      <td>No Deposit</td>\n",
       "      <td>240.0</td>\n",
       "      <td>NaN</td>\n",
       "      <td>0</td>\n",
       "      <td>Transient</td>\n",
       "      <td>57.9</td>\n",
       "      <td>0</td>\n",
       "      <td>1</td>\n",
       "      <td>Canceled</td>\n",
       "      <td>2018-12-20</td>\n",
       "    </tr>\n",
       "    <tr>\n",
       "      <th>2</th>\n",
       "      <td>Resort Hotel</td>\n",
       "      <td>1</td>\n",
       "      <td>113</td>\n",
       "      <td>2019</td>\n",
       "      <td>January</td>\n",
       "      <td>1</td>\n",
       "      <td>2</td>\n",
       "      <td>0</td>\n",
       "      <td>1</td>\n",
       "      <td>2</td>\n",
       "      <td>...</td>\n",
       "      <td>Non Refund</td>\n",
       "      <td>305.0</td>\n",
       "      <td>NaN</td>\n",
       "      <td>0</td>\n",
       "      <td>Transient</td>\n",
       "      <td>72.0</td>\n",
       "      <td>0</td>\n",
       "      <td>0</td>\n",
       "      <td>Canceled</td>\n",
       "      <td>2018-11-16</td>\n",
       "    </tr>\n",
       "    <tr>\n",
       "      <th>3</th>\n",
       "      <td>Resort Hotel</td>\n",
       "      <td>1</td>\n",
       "      <td>113</td>\n",
       "      <td>2019</td>\n",
       "      <td>January</td>\n",
       "      <td>1</td>\n",
       "      <td>2</td>\n",
       "      <td>0</td>\n",
       "      <td>1</td>\n",
       "      <td>2</td>\n",
       "      <td>...</td>\n",
       "      <td>Non Refund</td>\n",
       "      <td>305.0</td>\n",
       "      <td>NaN</td>\n",
       "      <td>0</td>\n",
       "      <td>Transient</td>\n",
       "      <td>72.0</td>\n",
       "      <td>0</td>\n",
       "      <td>0</td>\n",
       "      <td>Canceled</td>\n",
       "      <td>2018-11-16</td>\n",
       "    </tr>\n",
       "    <tr>\n",
       "      <th>4</th>\n",
       "      <td>Resort Hotel</td>\n",
       "      <td>1</td>\n",
       "      <td>113</td>\n",
       "      <td>2019</td>\n",
       "      <td>January</td>\n",
       "      <td>1</td>\n",
       "      <td>2</td>\n",
       "      <td>0</td>\n",
       "      <td>1</td>\n",
       "      <td>2</td>\n",
       "      <td>...</td>\n",
       "      <td>Non Refund</td>\n",
       "      <td>305.0</td>\n",
       "      <td>NaN</td>\n",
       "      <td>0</td>\n",
       "      <td>Transient</td>\n",
       "      <td>72.0</td>\n",
       "      <td>0</td>\n",
       "      <td>0</td>\n",
       "      <td>Canceled</td>\n",
       "      <td>2018-11-16</td>\n",
       "    </tr>\n",
       "  </tbody>\n",
       "</table>\n",
       "<p>5 rows × 32 columns</p>\n",
       "</div>"
      ],
      "text/plain": [
       "          hotel  is_canceled  lead_time  arrival_date_year arrival_date_month  \\\n",
       "0  Resort Hotel            1         20               2019            January   \n",
       "1  Resort Hotel            1         76               2019            January   \n",
       "2  Resort Hotel            1        113               2019            January   \n",
       "3  Resort Hotel            1        113               2019            January   \n",
       "4  Resort Hotel            1        113               2019            January   \n",
       "\n",
       "   arrival_date_week_number  arrival_date_day_of_month  \\\n",
       "0                         1                          1   \n",
       "1                         1                          1   \n",
       "2                         1                          2   \n",
       "3                         1                          2   \n",
       "4                         1                          2   \n",
       "\n",
       "   stays_in_weekend_nights  stays_in_week_nights  adults  ...  deposit_type  \\\n",
       "0                        0                     2       2  ...    No Deposit   \n",
       "1                        1                     2       2  ...    No Deposit   \n",
       "2                        0                     1       2  ...    Non Refund   \n",
       "3                        0                     1       2  ...    Non Refund   \n",
       "4                        0                     1       2  ...    Non Refund   \n",
       "\n",
       "   agent company days_in_waiting_list customer_type    adr  \\\n",
       "0  240.0     NaN                    0     Transient  119.0   \n",
       "1  240.0     NaN                    0     Transient   57.9   \n",
       "2  305.0     NaN                    0     Transient   72.0   \n",
       "3  305.0     NaN                    0     Transient   72.0   \n",
       "4  305.0     NaN                    0     Transient   72.0   \n",
       "\n",
       "   required_car_parking_spaces  total_of_special_requests  reservation_status  \\\n",
       "0                            0                          0            Canceled   \n",
       "1                            0                          1            Canceled   \n",
       "2                            0                          0            Canceled   \n",
       "3                            0                          0            Canceled   \n",
       "4                            0                          0            Canceled   \n",
       "\n",
       "  reservation_status_date  \n",
       "0              2018-12-22  \n",
       "1              2018-12-20  \n",
       "2              2018-11-16  \n",
       "3              2018-11-16  \n",
       "4              2018-11-16  \n",
       "\n",
       "[5 rows x 32 columns]"
      ]
     },
     "execution_count": 83,
     "metadata": {},
     "output_type": "execute_result"
    }
   ],
   "source": [
    "h19.head()"
   ]
  },
  {
   "cell_type": "code",
   "execution_count": 84,
   "id": "e7cda2c2",
   "metadata": {},
   "outputs": [
    {
     "data": {
      "text/html": [
       "<div>\n",
       "<style scoped>\n",
       "    .dataframe tbody tr th:only-of-type {\n",
       "        vertical-align: middle;\n",
       "    }\n",
       "\n",
       "    .dataframe tbody tr th {\n",
       "        vertical-align: top;\n",
       "    }\n",
       "\n",
       "    .dataframe thead th {\n",
       "        text-align: right;\n",
       "    }\n",
       "</style>\n",
       "<table border=\"1\" class=\"dataframe\">\n",
       "  <thead>\n",
       "    <tr style=\"text-align: right;\">\n",
       "      <th></th>\n",
       "      <th>hotel</th>\n",
       "      <th>is_canceled</th>\n",
       "      <th>lead_time</th>\n",
       "      <th>arrival_date_year</th>\n",
       "      <th>arrival_date_month</th>\n",
       "      <th>arrival_date_week_number</th>\n",
       "      <th>arrival_date_day_of_month</th>\n",
       "      <th>stays_in_weekend_nights</th>\n",
       "      <th>stays_in_week_nights</th>\n",
       "      <th>adults</th>\n",
       "      <th>...</th>\n",
       "      <th>deposit_type</th>\n",
       "      <th>agent</th>\n",
       "      <th>company</th>\n",
       "      <th>days_in_waiting_list</th>\n",
       "      <th>customer_type</th>\n",
       "      <th>adr</th>\n",
       "      <th>required_car_parking_spaces</th>\n",
       "      <th>total_of_special_requests</th>\n",
       "      <th>reservation_status</th>\n",
       "      <th>reservation_status_date</th>\n",
       "    </tr>\n",
       "  </thead>\n",
       "  <tbody>\n",
       "    <tr>\n",
       "      <th>0</th>\n",
       "      <td>Resort Hotel</td>\n",
       "      <td>1</td>\n",
       "      <td>74</td>\n",
       "      <td>2020</td>\n",
       "      <td>January</td>\n",
       "      <td>1</td>\n",
       "      <td>1</td>\n",
       "      <td>1</td>\n",
       "      <td>0</td>\n",
       "      <td>2</td>\n",
       "      <td>...</td>\n",
       "      <td>No Deposit</td>\n",
       "      <td>5.0</td>\n",
       "      <td>NaN</td>\n",
       "      <td>0</td>\n",
       "      <td>Transient</td>\n",
       "      <td>57.60</td>\n",
       "      <td>0</td>\n",
       "      <td>0</td>\n",
       "      <td>Canceled</td>\n",
       "      <td>2019-10-20</td>\n",
       "    </tr>\n",
       "    <tr>\n",
       "      <th>1</th>\n",
       "      <td>Resort Hotel</td>\n",
       "      <td>1</td>\n",
       "      <td>62</td>\n",
       "      <td>2020</td>\n",
       "      <td>January</td>\n",
       "      <td>1</td>\n",
       "      <td>1</td>\n",
       "      <td>2</td>\n",
       "      <td>2</td>\n",
       "      <td>2</td>\n",
       "      <td>...</td>\n",
       "      <td>No Deposit</td>\n",
       "      <td>240.0</td>\n",
       "      <td>NaN</td>\n",
       "      <td>0</td>\n",
       "      <td>Transient</td>\n",
       "      <td>51.50</td>\n",
       "      <td>0</td>\n",
       "      <td>1</td>\n",
       "      <td>Canceled</td>\n",
       "      <td>2019-12-04</td>\n",
       "    </tr>\n",
       "    <tr>\n",
       "      <th>2</th>\n",
       "      <td>Resort Hotel</td>\n",
       "      <td>1</td>\n",
       "      <td>62</td>\n",
       "      <td>2020</td>\n",
       "      <td>January</td>\n",
       "      <td>1</td>\n",
       "      <td>1</td>\n",
       "      <td>2</td>\n",
       "      <td>2</td>\n",
       "      <td>2</td>\n",
       "      <td>...</td>\n",
       "      <td>No Deposit</td>\n",
       "      <td>240.0</td>\n",
       "      <td>NaN</td>\n",
       "      <td>0</td>\n",
       "      <td>Transient</td>\n",
       "      <td>51.50</td>\n",
       "      <td>0</td>\n",
       "      <td>1</td>\n",
       "      <td>Canceled</td>\n",
       "      <td>2019-11-11</td>\n",
       "    </tr>\n",
       "    <tr>\n",
       "      <th>3</th>\n",
       "      <td>Resort Hotel</td>\n",
       "      <td>1</td>\n",
       "      <td>62</td>\n",
       "      <td>2020</td>\n",
       "      <td>January</td>\n",
       "      <td>1</td>\n",
       "      <td>1</td>\n",
       "      <td>2</td>\n",
       "      <td>2</td>\n",
       "      <td>2</td>\n",
       "      <td>...</td>\n",
       "      <td>No Deposit</td>\n",
       "      <td>240.0</td>\n",
       "      <td>NaN</td>\n",
       "      <td>0</td>\n",
       "      <td>Transient</td>\n",
       "      <td>51.50</td>\n",
       "      <td>0</td>\n",
       "      <td>1</td>\n",
       "      <td>Canceled</td>\n",
       "      <td>2019-12-04</td>\n",
       "    </tr>\n",
       "    <tr>\n",
       "      <th>4</th>\n",
       "      <td>Resort Hotel</td>\n",
       "      <td>1</td>\n",
       "      <td>71</td>\n",
       "      <td>2020</td>\n",
       "      <td>January</td>\n",
       "      <td>1</td>\n",
       "      <td>1</td>\n",
       "      <td>2</td>\n",
       "      <td>2</td>\n",
       "      <td>1</td>\n",
       "      <td>...</td>\n",
       "      <td>No Deposit</td>\n",
       "      <td>241.0</td>\n",
       "      <td>NaN</td>\n",
       "      <td>0</td>\n",
       "      <td>Transient</td>\n",
       "      <td>32.22</td>\n",
       "      <td>0</td>\n",
       "      <td>1</td>\n",
       "      <td>Canceled</td>\n",
       "      <td>2019-10-29</td>\n",
       "    </tr>\n",
       "  </tbody>\n",
       "</table>\n",
       "<p>5 rows × 32 columns</p>\n",
       "</div>"
      ],
      "text/plain": [
       "          hotel  is_canceled  lead_time  arrival_date_year arrival_date_month  \\\n",
       "0  Resort Hotel            1         74               2020            January   \n",
       "1  Resort Hotel            1         62               2020            January   \n",
       "2  Resort Hotel            1         62               2020            January   \n",
       "3  Resort Hotel            1         62               2020            January   \n",
       "4  Resort Hotel            1         71               2020            January   \n",
       "\n",
       "   arrival_date_week_number  arrival_date_day_of_month  \\\n",
       "0                         1                          1   \n",
       "1                         1                          1   \n",
       "2                         1                          1   \n",
       "3                         1                          1   \n",
       "4                         1                          1   \n",
       "\n",
       "   stays_in_weekend_nights  stays_in_week_nights  adults  ...  deposit_type  \\\n",
       "0                        1                     0       2  ...    No Deposit   \n",
       "1                        2                     2       2  ...    No Deposit   \n",
       "2                        2                     2       2  ...    No Deposit   \n",
       "3                        2                     2       2  ...    No Deposit   \n",
       "4                        2                     2       1  ...    No Deposit   \n",
       "\n",
       "   agent company days_in_waiting_list customer_type    adr  \\\n",
       "0    5.0     NaN                    0     Transient  57.60   \n",
       "1  240.0     NaN                    0     Transient  51.50   \n",
       "2  240.0     NaN                    0     Transient  51.50   \n",
       "3  240.0     NaN                    0     Transient  51.50   \n",
       "4  241.0     NaN                    0     Transient  32.22   \n",
       "\n",
       "   required_car_parking_spaces  total_of_special_requests  reservation_status  \\\n",
       "0                            0                          0            Canceled   \n",
       "1                            0                          1            Canceled   \n",
       "2                            0                          1            Canceled   \n",
       "3                            0                          1            Canceled   \n",
       "4                            0                          1            Canceled   \n",
       "\n",
       "  reservation_status_date  \n",
       "0              2019-10-20  \n",
       "1              2019-12-04  \n",
       "2              2019-11-11  \n",
       "3              2019-12-04  \n",
       "4              2019-10-29  \n",
       "\n",
       "[5 rows x 32 columns]"
      ]
     },
     "execution_count": 84,
     "metadata": {},
     "output_type": "execute_result"
    }
   ],
   "source": [
    "h20.head()"
   ]
  },
  {
   "cell_type": "code",
   "execution_count": 85,
   "id": "068bdc5d",
   "metadata": {},
   "outputs": [
    {
     "data": {
      "text/html": [
       "<div>\n",
       "<style scoped>\n",
       "    .dataframe tbody tr th:only-of-type {\n",
       "        vertical-align: middle;\n",
       "    }\n",
       "\n",
       "    .dataframe tbody tr th {\n",
       "        vertical-align: top;\n",
       "    }\n",
       "\n",
       "    .dataframe thead th {\n",
       "        text-align: right;\n",
       "    }\n",
       "</style>\n",
       "<table border=\"1\" class=\"dataframe\">\n",
       "  <thead>\n",
       "    <tr style=\"text-align: right;\">\n",
       "      <th></th>\n",
       "      <th>Cost</th>\n",
       "      <th>meal</th>\n",
       "    </tr>\n",
       "  </thead>\n",
       "  <tbody>\n",
       "    <tr>\n",
       "      <th>0</th>\n",
       "      <td>0.00</td>\n",
       "      <td>Undefined</td>\n",
       "    </tr>\n",
       "    <tr>\n",
       "      <th>1</th>\n",
       "      <td>12.99</td>\n",
       "      <td>BB</td>\n",
       "    </tr>\n",
       "    <tr>\n",
       "      <th>2</th>\n",
       "      <td>17.99</td>\n",
       "      <td>HB</td>\n",
       "    </tr>\n",
       "    <tr>\n",
       "      <th>3</th>\n",
       "      <td>21.99</td>\n",
       "      <td>FB</td>\n",
       "    </tr>\n",
       "    <tr>\n",
       "      <th>4</th>\n",
       "      <td>35.00</td>\n",
       "      <td>SC</td>\n",
       "    </tr>\n",
       "  </tbody>\n",
       "</table>\n",
       "</div>"
      ],
      "text/plain": [
       "    Cost       meal\n",
       "0   0.00  Undefined\n",
       "1  12.99         BB\n",
       "2  17.99         HB\n",
       "3  21.99         FB\n",
       "4  35.00         SC"
      ]
     },
     "execution_count": 85,
     "metadata": {},
     "output_type": "execute_result"
    }
   ],
   "source": [
    "meal_cost"
   ]
  },
  {
   "cell_type": "code",
   "execution_count": 86,
   "id": "f238f04f",
   "metadata": {},
   "outputs": [
    {
     "data": {
      "text/html": [
       "<div>\n",
       "<style scoped>\n",
       "    .dataframe tbody tr th:only-of-type {\n",
       "        vertical-align: middle;\n",
       "    }\n",
       "\n",
       "    .dataframe tbody tr th {\n",
       "        vertical-align: top;\n",
       "    }\n",
       "\n",
       "    .dataframe thead th {\n",
       "        text-align: right;\n",
       "    }\n",
       "</style>\n",
       "<table border=\"1\" class=\"dataframe\">\n",
       "  <thead>\n",
       "    <tr style=\"text-align: right;\">\n",
       "      <th></th>\n",
       "      <th>Discount</th>\n",
       "      <th>market_segment</th>\n",
       "    </tr>\n",
       "  </thead>\n",
       "  <tbody>\n",
       "    <tr>\n",
       "      <th>0</th>\n",
       "      <td>0.00</td>\n",
       "      <td>Undefined</td>\n",
       "    </tr>\n",
       "    <tr>\n",
       "      <th>1</th>\n",
       "      <td>0.10</td>\n",
       "      <td>Direct</td>\n",
       "    </tr>\n",
       "    <tr>\n",
       "      <th>2</th>\n",
       "      <td>0.10</td>\n",
       "      <td>Groups</td>\n",
       "    </tr>\n",
       "    <tr>\n",
       "      <th>3</th>\n",
       "      <td>0.15</td>\n",
       "      <td>Corporate</td>\n",
       "    </tr>\n",
       "    <tr>\n",
       "      <th>4</th>\n",
       "      <td>0.20</td>\n",
       "      <td>Aviation</td>\n",
       "    </tr>\n",
       "    <tr>\n",
       "      <th>5</th>\n",
       "      <td>0.30</td>\n",
       "      <td>Offline TA/TO</td>\n",
       "    </tr>\n",
       "    <tr>\n",
       "      <th>6</th>\n",
       "      <td>0.30</td>\n",
       "      <td>Online TA</td>\n",
       "    </tr>\n",
       "    <tr>\n",
       "      <th>7</th>\n",
       "      <td>1.00</td>\n",
       "      <td>Complementary</td>\n",
       "    </tr>\n",
       "  </tbody>\n",
       "</table>\n",
       "</div>"
      ],
      "text/plain": [
       "   Discount market_segment\n",
       "0      0.00      Undefined\n",
       "1      0.10         Direct\n",
       "2      0.10         Groups\n",
       "3      0.15      Corporate\n",
       "4      0.20       Aviation\n",
       "5      0.30  Offline TA/TO\n",
       "6      0.30      Online TA\n",
       "7      1.00  Complementary"
      ]
     },
     "execution_count": 86,
     "metadata": {},
     "output_type": "execute_result"
    }
   ],
   "source": [
    "market_seg"
   ]
  },
  {
   "cell_type": "code",
   "execution_count": 87,
   "id": "b4d44faf",
   "metadata": {
    "scrolled": true
   },
   "outputs": [
    {
     "name": "stdout",
     "output_type": "stream",
     "text": [
      "<class 'pandas.core.frame.DataFrame'>\n",
      "RangeIndex: 21996 entries, 0 to 21995\n",
      "Data columns (total 32 columns):\n",
      " #   Column                          Non-Null Count  Dtype         \n",
      "---  ------                          --------------  -----         \n",
      " 0   hotel                           21996 non-null  object        \n",
      " 1   is_canceled                     21996 non-null  int64         \n",
      " 2   lead_time                       21996 non-null  int64         \n",
      " 3   arrival_date_year               21996 non-null  int64         \n",
      " 4   arrival_date_month              21996 non-null  object        \n",
      " 5   arrival_date_week_number        21996 non-null  int64         \n",
      " 6   arrival_date_day_of_month       21996 non-null  int64         \n",
      " 7   stays_in_weekend_nights         21996 non-null  int64         \n",
      " 8   stays_in_week_nights            21996 non-null  int64         \n",
      " 9   adults                          21996 non-null  int64         \n",
      " 10  children                        21992 non-null  float64       \n",
      " 11  babies                          21996 non-null  int64         \n",
      " 12  meal                            21996 non-null  object        \n",
      " 13  country                         21863 non-null  object        \n",
      " 14  market_segment                  21996 non-null  object        \n",
      " 15  distribution_channel            21996 non-null  object        \n",
      " 16  is_repeated_guest               21996 non-null  int64         \n",
      " 17  previous_cancellations          21996 non-null  int64         \n",
      " 18  previous_bookings_not_canceled  21996 non-null  int64         \n",
      " 19  reserved_room_type              21996 non-null  object        \n",
      " 20  assigned_room_type              21996 non-null  object        \n",
      " 21  booking_changes                 21996 non-null  int64         \n",
      " 22  deposit_type                    21996 non-null  object        \n",
      " 23  agent                           18897 non-null  float64       \n",
      " 24  company                         1305 non-null   float64       \n",
      " 25  days_in_waiting_list            21996 non-null  int64         \n",
      " 26  customer_type                   21996 non-null  object        \n",
      " 27  adr                             21996 non-null  float64       \n",
      " 28  required_car_parking_spaces     21996 non-null  int64         \n",
      " 29  total_of_special_requests       21996 non-null  int64         \n",
      " 30  reservation_status              21996 non-null  object        \n",
      " 31  reservation_status_date         21996 non-null  datetime64[ns]\n",
      "dtypes: datetime64[ns](1), float64(4), int64(16), object(11)\n",
      "memory usage: 5.4+ MB\n"
     ]
    }
   ],
   "source": [
    "# Programmatic inspection of the hotel data\n",
    "h18.info()"
   ]
  },
  {
   "cell_type": "code",
   "execution_count": 88,
   "id": "8b95cb2d",
   "metadata": {},
   "outputs": [
    {
     "name": "stdout",
     "output_type": "stream",
     "text": [
      "<class 'pandas.core.frame.DataFrame'>\n",
      "RangeIndex: 79264 entries, 0 to 79263\n",
      "Data columns (total 32 columns):\n",
      " #   Column                          Non-Null Count  Dtype         \n",
      "---  ------                          --------------  -----         \n",
      " 0   hotel                           79264 non-null  object        \n",
      " 1   is_canceled                     79264 non-null  int64         \n",
      " 2   lead_time                       79264 non-null  int64         \n",
      " 3   arrival_date_year               79264 non-null  int64         \n",
      " 4   arrival_date_month              79264 non-null  object        \n",
      " 5   arrival_date_week_number        79264 non-null  int64         \n",
      " 6   arrival_date_day_of_month       79264 non-null  int64         \n",
      " 7   stays_in_weekend_nights         79264 non-null  int64         \n",
      " 8   stays_in_week_nights            79264 non-null  int64         \n",
      " 9   adults                          79264 non-null  int64         \n",
      " 10  children                        79260 non-null  float64       \n",
      " 11  babies                          79264 non-null  int64         \n",
      " 12  meal                            79264 non-null  object        \n",
      " 13  country                         78855 non-null  object        \n",
      " 14  market_segment                  79264 non-null  object        \n",
      " 15  distribution_channel            79264 non-null  object        \n",
      " 16  is_repeated_guest               79264 non-null  int64         \n",
      " 17  previous_cancellations          79264 non-null  int64         \n",
      " 18  previous_bookings_not_canceled  79264 non-null  int64         \n",
      " 19  reserved_room_type              79264 non-null  object        \n",
      " 20  assigned_room_type              79264 non-null  object        \n",
      " 21  booking_changes                 79264 non-null  int64         \n",
      " 22  deposit_type                    79264 non-null  object        \n",
      " 23  agent                           68472 non-null  float64       \n",
      " 24  company                         4510 non-null   float64       \n",
      " 25  days_in_waiting_list            79264 non-null  int64         \n",
      " 26  customer_type                   79264 non-null  object        \n",
      " 27  adr                             79264 non-null  float64       \n",
      " 28  required_car_parking_spaces     79264 non-null  int64         \n",
      " 29  total_of_special_requests       79264 non-null  int64         \n",
      " 30  reservation_status              79264 non-null  object        \n",
      " 31  reservation_status_date         79264 non-null  datetime64[ns]\n",
      "dtypes: datetime64[ns](1), float64(4), int64(16), object(11)\n",
      "memory usage: 19.4+ MB\n"
     ]
    }
   ],
   "source": [
    "h19.info()"
   ]
  },
  {
   "cell_type": "code",
   "execution_count": 89,
   "id": "0976194c",
   "metadata": {},
   "outputs": [
    {
     "name": "stdout",
     "output_type": "stream",
     "text": [
      "<class 'pandas.core.frame.DataFrame'>\n",
      "RangeIndex: 40687 entries, 0 to 40686\n",
      "Data columns (total 32 columns):\n",
      " #   Column                          Non-Null Count  Dtype         \n",
      "---  ------                          --------------  -----         \n",
      " 0   hotel                           40687 non-null  object        \n",
      " 1   is_canceled                     40687 non-null  int64         \n",
      " 2   lead_time                       40687 non-null  int64         \n",
      " 3   arrival_date_year               40687 non-null  int64         \n",
      " 4   arrival_date_month              40687 non-null  object        \n",
      " 5   arrival_date_week_number        40687 non-null  int64         \n",
      " 6   arrival_date_day_of_month       40687 non-null  int64         \n",
      " 7   stays_in_weekend_nights         40687 non-null  int64         \n",
      " 8   stays_in_week_nights            40687 non-null  int64         \n",
      " 9   adults                          40687 non-null  int64         \n",
      " 10  children                        40687 non-null  int64         \n",
      " 11  babies                          40687 non-null  int64         \n",
      " 12  meal                            40687 non-null  object        \n",
      " 13  country                         40604 non-null  object        \n",
      " 14  market_segment                  40687 non-null  object        \n",
      " 15  distribution_channel            40687 non-null  object        \n",
      " 16  is_repeated_guest               40687 non-null  int64         \n",
      " 17  previous_cancellations          40687 non-null  int64         \n",
      " 18  previous_bookings_not_canceled  40687 non-null  int64         \n",
      " 19  reserved_room_type              40687 non-null  object        \n",
      " 20  assigned_room_type              40687 non-null  object        \n",
      " 21  booking_changes                 40687 non-null  int64         \n",
      " 22  deposit_type                    40687 non-null  object        \n",
      " 23  agent                           35023 non-null  float64       \n",
      " 24  company                         2310 non-null   float64       \n",
      " 25  days_in_waiting_list            40687 non-null  int64         \n",
      " 26  customer_type                   40687 non-null  object        \n",
      " 27  adr                             40687 non-null  float64       \n",
      " 28  required_car_parking_spaces     40687 non-null  int64         \n",
      " 29  total_of_special_requests       40687 non-null  int64         \n",
      " 30  reservation_status              40687 non-null  object        \n",
      " 31  reservation_status_date         40687 non-null  datetime64[ns]\n",
      "dtypes: datetime64[ns](1), float64(3), int64(17), object(11)\n",
      "memory usage: 9.9+ MB\n"
     ]
    }
   ],
   "source": [
    "h20.info()"
   ]
  },
  {
   "cell_type": "code",
   "execution_count": 90,
   "id": "62b385fa",
   "metadata": {},
   "outputs": [],
   "source": [
    "# Check to see if columns in the hotels dataframe are same\n",
    "assert (h18.columns == h19.columns).all()\n",
    "assert (h19.columns == h20.columns).all()"
   ]
  },
  {
   "cell_type": "code",
   "execution_count": 91,
   "id": "5b890726",
   "metadata": {},
   "outputs": [
    {
     "data": {
      "text/plain": [
       "hotel                                 0\n",
       "is_canceled                           0\n",
       "lead_time                             0\n",
       "arrival_date_year                     0\n",
       "arrival_date_month                    0\n",
       "arrival_date_week_number              0\n",
       "arrival_date_day_of_month             0\n",
       "stays_in_weekend_nights               0\n",
       "stays_in_week_nights                  0\n",
       "adults                                0\n",
       "children                              4\n",
       "babies                                0\n",
       "meal                                  0\n",
       "country                             133\n",
       "market_segment                        0\n",
       "distribution_channel                  0\n",
       "is_repeated_guest                     0\n",
       "previous_cancellations                0\n",
       "previous_bookings_not_canceled        0\n",
       "reserved_room_type                    0\n",
       "assigned_room_type                    0\n",
       "booking_changes                       0\n",
       "deposit_type                          0\n",
       "agent                              3099\n",
       "company                           20691\n",
       "days_in_waiting_list                  0\n",
       "customer_type                         0\n",
       "adr                                   0\n",
       "required_car_parking_spaces           0\n",
       "total_of_special_requests             0\n",
       "reservation_status                    0\n",
       "reservation_status_date               0\n",
       "dtype: int64"
      ]
     },
     "execution_count": 91,
     "metadata": {},
     "output_type": "execute_result"
    }
   ],
   "source": [
    "# Check for missing values\n",
    "h18.isnull().sum()"
   ]
  },
  {
   "cell_type": "code",
   "execution_count": 92,
   "id": "47ba3fbc",
   "metadata": {},
   "outputs": [
    {
     "data": {
      "text/plain": [
       "hotel                                 0\n",
       "is_canceled                           0\n",
       "lead_time                             0\n",
       "arrival_date_year                     0\n",
       "arrival_date_month                    0\n",
       "arrival_date_week_number              0\n",
       "arrival_date_day_of_month             0\n",
       "stays_in_weekend_nights               0\n",
       "stays_in_week_nights                  0\n",
       "adults                                0\n",
       "children                              4\n",
       "babies                                0\n",
       "meal                                  0\n",
       "country                             409\n",
       "market_segment                        0\n",
       "distribution_channel                  0\n",
       "is_repeated_guest                     0\n",
       "previous_cancellations                0\n",
       "previous_bookings_not_canceled        0\n",
       "reserved_room_type                    0\n",
       "assigned_room_type                    0\n",
       "booking_changes                       0\n",
       "deposit_type                          0\n",
       "agent                             10792\n",
       "company                           74754\n",
       "days_in_waiting_list                  0\n",
       "customer_type                         0\n",
       "adr                                   0\n",
       "required_car_parking_spaces           0\n",
       "total_of_special_requests             0\n",
       "reservation_status                    0\n",
       "reservation_status_date               0\n",
       "dtype: int64"
      ]
     },
     "execution_count": 92,
     "metadata": {},
     "output_type": "execute_result"
    }
   ],
   "source": [
    "h19.isnull().sum()"
   ]
  },
  {
   "cell_type": "code",
   "execution_count": 93,
   "id": "474d3818",
   "metadata": {},
   "outputs": [
    {
     "data": {
      "text/plain": [
       "hotel                                 0\n",
       "is_canceled                           0\n",
       "lead_time                             0\n",
       "arrival_date_year                     0\n",
       "arrival_date_month                    0\n",
       "arrival_date_week_number              0\n",
       "arrival_date_day_of_month             0\n",
       "stays_in_weekend_nights               0\n",
       "stays_in_week_nights                  0\n",
       "adults                                0\n",
       "children                              0\n",
       "babies                                0\n",
       "meal                                  0\n",
       "country                              83\n",
       "market_segment                        0\n",
       "distribution_channel                  0\n",
       "is_repeated_guest                     0\n",
       "previous_cancellations                0\n",
       "previous_bookings_not_canceled        0\n",
       "reserved_room_type                    0\n",
       "assigned_room_type                    0\n",
       "booking_changes                       0\n",
       "deposit_type                          0\n",
       "agent                              5664\n",
       "company                           38377\n",
       "days_in_waiting_list                  0\n",
       "customer_type                         0\n",
       "adr                                   0\n",
       "required_car_parking_spaces           0\n",
       "total_of_special_requests             0\n",
       "reservation_status                    0\n",
       "reservation_status_date               0\n",
       "dtype: int64"
      ]
     },
     "execution_count": 93,
     "metadata": {},
     "output_type": "execute_result"
    }
   ],
   "source": [
    "h20.isnull().sum()"
   ]
  },
  {
   "cell_type": "code",
   "execution_count": 94,
   "id": "339a893c",
   "metadata": {},
   "outputs": [
    {
     "data": {
      "text/plain": [
       "8683"
      ]
     },
     "execution_count": 94,
     "metadata": {},
     "output_type": "execute_result"
    }
   ],
   "source": [
    "# check for duplicated values\n",
    "h18.duplicated().sum()"
   ]
  },
  {
   "cell_type": "code",
   "execution_count": 95,
   "id": "7bdf8a2c",
   "metadata": {},
   "outputs": [
    {
     "data": {
      "text/plain": [
       "23513"
      ]
     },
     "execution_count": 95,
     "metadata": {},
     "output_type": "execute_result"
    }
   ],
   "source": [
    "h19.duplicated().sum()"
   ]
  },
  {
   "cell_type": "code",
   "execution_count": 96,
   "id": "796da0a9",
   "metadata": {},
   "outputs": [
    {
     "data": {
      "text/plain": [
       "8995"
      ]
     },
     "execution_count": 96,
     "metadata": {},
     "output_type": "execute_result"
    }
   ],
   "source": [
    "h20.duplicated().sum()"
   ]
  },
  {
   "cell_type": "code",
   "execution_count": 97,
   "id": "76bccacf",
   "metadata": {},
   "outputs": [
    {
     "data": {
      "text/plain": [
       "array(['BB', 'HB', 'Undefined', 'FB', 'SC'], dtype=object)"
      ]
     },
     "execution_count": 97,
     "metadata": {},
     "output_type": "execute_result"
    }
   ],
   "source": [
    "h19.meal.unique()"
   ]
  },
  {
   "cell_type": "code",
   "execution_count": 98,
   "id": "46e37eed",
   "metadata": {},
   "outputs": [
    {
     "data": {
      "text/plain": [
       "array(['BB', 'HB', 'Undefined', 'FB', 'SC'], dtype=object)"
      ]
     },
     "execution_count": 98,
     "metadata": {},
     "output_type": "execute_result"
    }
   ],
   "source": [
    "h20.meal.unique()"
   ]
  },
  {
   "cell_type": "code",
   "execution_count": 99,
   "id": "23881329",
   "metadata": {},
   "outputs": [
    {
     "data": {
      "text/plain": [
       "array(['BB', 'HB', 'FB', 'Undefined', 'SC'], dtype=object)"
      ]
     },
     "execution_count": 99,
     "metadata": {},
     "output_type": "execute_result"
    }
   ],
   "source": [
    "h18.meal.unique()"
   ]
  },
  {
   "cell_type": "code",
   "execution_count": 100,
   "id": "7823f43b",
   "metadata": {},
   "outputs": [
    {
     "data": {
      "text/plain": [
       "array(['Online TA', 'Offline TA/TO', 'Direct', 'Corporate', 'Groups',\n",
       "       'Complementary', 'Undefined'], dtype=object)"
      ]
     },
     "execution_count": 100,
     "metadata": {},
     "output_type": "execute_result"
    }
   ],
   "source": [
    "h18.market_segment.unique()"
   ]
  },
  {
   "cell_type": "code",
   "execution_count": 101,
   "id": "78daa3e2",
   "metadata": {},
   "outputs": [
    {
     "data": {
      "text/plain": [
       "array(['Online TA', 'Groups', 'Offline TA/TO', 'Direct', 'Complementary',\n",
       "       'Corporate', 'Aviation', 'Undefined'], dtype=object)"
      ]
     },
     "execution_count": 101,
     "metadata": {},
     "output_type": "execute_result"
    }
   ],
   "source": [
    "h19.market_segment.unique()"
   ]
  },
  {
   "cell_type": "code",
   "execution_count": 102,
   "id": "96f74090",
   "metadata": {},
   "outputs": [
    {
     "data": {
      "text/plain": [
       "array(['Online TA', 'Offline TA/TO', 'Direct', 'Corporate',\n",
       "       'Complementary', 'Groups', 'Aviation'], dtype=object)"
      ]
     },
     "execution_count": 102,
     "metadata": {},
     "output_type": "execute_result"
    }
   ],
   "source": [
    "h20.market_segment.unique()"
   ]
  },
  {
   "cell_type": "markdown",
   "id": "ba7fc713",
   "metadata": {},
   "source": [
    "#### Structural Issue\n",
    "- The five dataframes should be one table as they have same or supplimenting data\n",
    "\n",
    "#### Quality Issues\n",
    "- The hotel dataframes contains duplicated values\n",
    "- Some columns have missing values\n",
    "- The children column should be integer not float"
   ]
  },
  {
   "cell_type": "markdown",
   "id": "3a2b107d",
   "metadata": {},
   "source": [
    "### Data cleaning"
   ]
  },
  {
   "cell_type": "code",
   "execution_count": 197,
   "id": "582c9399",
   "metadata": {},
   "outputs": [],
   "source": [
    "# get a working copy to save original dataset\n",
    "h18_cl = h18.copy()\n",
    "h19_cl = h19.copy()\n",
    "h20_cl = h20.copy()\n",
    "meal_cost_cl = meal_cost.copy()\n",
    "market_seg_cl = market_seg.copy()"
   ]
  },
  {
   "cell_type": "markdown",
   "id": "08238467",
   "metadata": {},
   "source": [
    "#### Adrressing the structural issue\n",
    "- hotel data(h18, h19 and h20) have similar columns and content so we concatenate them together\n",
    "- meal cost has an additional column on the cost of various meal groups we merge into the hotel dataframe\n",
    "- market segment also have an additional data on the discount for the various market segment so we merge into the hotel dataframe."
   ]
  },
  {
   "cell_type": "code",
   "execution_count": 198,
   "id": "951fce8b",
   "metadata": {},
   "outputs": [
    {
     "data": {
      "text/plain": [
       "(141947, 32)"
      ]
     },
     "execution_count": 198,
     "metadata": {},
     "output_type": "execute_result"
    }
   ],
   "source": [
    "# concatenate hotel df togehter\n",
    "hotel = pd.concat([h18_cl, h19_cl, h20_cl], axis= 0, ignore_index= True)\n",
    "#test\n",
    "hotel.shape"
   ]
  },
  {
   "cell_type": "code",
   "execution_count": 199,
   "id": "37dc2c60",
   "metadata": {},
   "outputs": [],
   "source": [
    "# rename the cost column in meal_cost properly\n",
    "meal_cost_cl.rename(columns= {'Cost':'meal_cost'}, inplace= True)\n",
    "# merge meal_cost to hotel\n",
    "hotel = hotel.merge(meal_cost_cl, on= 'meal',how = 'inner')\n",
    "# test\n",
    "assert 'meal_cost' in hotel.columns"
   ]
  },
  {
   "cell_type": "code",
   "execution_count": 200,
   "id": "2f269d51",
   "metadata": {},
   "outputs": [],
   "source": [
    "# rename the discount column in market segment properly\n",
    "market_seg_cl.rename(columns={'Discount':'discount'}, inplace= True)\n",
    "# merge the market segment into hotel\n",
    "hotel = hotel.merge(market_seg_cl, on = 'market_segment', how = 'inner')\n",
    "# test\n",
    "assert 'discount' in hotel.columns"
   ]
  },
  {
   "cell_type": "code",
   "execution_count": 201,
   "id": "c071f4a5",
   "metadata": {},
   "outputs": [
    {
     "data": {
      "text/html": [
       "<div>\n",
       "<style scoped>\n",
       "    .dataframe tbody tr th:only-of-type {\n",
       "        vertical-align: middle;\n",
       "    }\n",
       "\n",
       "    .dataframe tbody tr th {\n",
       "        vertical-align: top;\n",
       "    }\n",
       "\n",
       "    .dataframe thead th {\n",
       "        text-align: right;\n",
       "    }\n",
       "</style>\n",
       "<table border=\"1\" class=\"dataframe\">\n",
       "  <thead>\n",
       "    <tr style=\"text-align: right;\">\n",
       "      <th></th>\n",
       "      <th>hotel</th>\n",
       "      <th>is_canceled</th>\n",
       "      <th>lead_time</th>\n",
       "      <th>arrival_date_year</th>\n",
       "      <th>arrival_date_month</th>\n",
       "      <th>arrival_date_week_number</th>\n",
       "      <th>arrival_date_day_of_month</th>\n",
       "      <th>stays_in_weekend_nights</th>\n",
       "      <th>stays_in_week_nights</th>\n",
       "      <th>adults</th>\n",
       "      <th>...</th>\n",
       "      <th>company</th>\n",
       "      <th>days_in_waiting_list</th>\n",
       "      <th>customer_type</th>\n",
       "      <th>adr</th>\n",
       "      <th>required_car_parking_spaces</th>\n",
       "      <th>total_of_special_requests</th>\n",
       "      <th>reservation_status</th>\n",
       "      <th>reservation_status_date</th>\n",
       "      <th>meal_cost</th>\n",
       "      <th>discount</th>\n",
       "    </tr>\n",
       "  </thead>\n",
       "  <tbody>\n",
       "    <tr>\n",
       "      <th>17846</th>\n",
       "      <td>City Hotel</td>\n",
       "      <td>0</td>\n",
       "      <td>235</td>\n",
       "      <td>2019</td>\n",
       "      <td>August</td>\n",
       "      <td>32</td>\n",
       "      <td>6</td>\n",
       "      <td>1</td>\n",
       "      <td>1</td>\n",
       "      <td>2</td>\n",
       "      <td>...</td>\n",
       "      <td>NaN</td>\n",
       "      <td>0</td>\n",
       "      <td>Transient-Party</td>\n",
       "      <td>105.30</td>\n",
       "      <td>1</td>\n",
       "      <td>2</td>\n",
       "      <td>Check-Out</td>\n",
       "      <td>2019-08-08</td>\n",
       "      <td>12.99</td>\n",
       "      <td>0.3</td>\n",
       "    </tr>\n",
       "    <tr>\n",
       "      <th>63792</th>\n",
       "      <td>Resort Hotel</td>\n",
       "      <td>0</td>\n",
       "      <td>26</td>\n",
       "      <td>2018</td>\n",
       "      <td>November</td>\n",
       "      <td>45</td>\n",
       "      <td>7</td>\n",
       "      <td>2</td>\n",
       "      <td>6</td>\n",
       "      <td>2</td>\n",
       "      <td>...</td>\n",
       "      <td>NaN</td>\n",
       "      <td>0</td>\n",
       "      <td>Transient</td>\n",
       "      <td>56.00</td>\n",
       "      <td>0</td>\n",
       "      <td>1</td>\n",
       "      <td>Check-Out</td>\n",
       "      <td>2018-11-15</td>\n",
       "      <td>12.99</td>\n",
       "      <td>0.1</td>\n",
       "    </tr>\n",
       "    <tr>\n",
       "      <th>95082</th>\n",
       "      <td>City Hotel</td>\n",
       "      <td>1</td>\n",
       "      <td>15</td>\n",
       "      <td>2020</td>\n",
       "      <td>February</td>\n",
       "      <td>7</td>\n",
       "      <td>17</td>\n",
       "      <td>0</td>\n",
       "      <td>2</td>\n",
       "      <td>2</td>\n",
       "      <td>...</td>\n",
       "      <td>NaN</td>\n",
       "      <td>0</td>\n",
       "      <td>Transient</td>\n",
       "      <td>95.00</td>\n",
       "      <td>0</td>\n",
       "      <td>0</td>\n",
       "      <td>Canceled</td>\n",
       "      <td>2020-02-02</td>\n",
       "      <td>12.99</td>\n",
       "      <td>0.3</td>\n",
       "    </tr>\n",
       "    <tr>\n",
       "      <th>39822</th>\n",
       "      <td>Resort Hotel</td>\n",
       "      <td>0</td>\n",
       "      <td>9</td>\n",
       "      <td>2020</td>\n",
       "      <td>April</td>\n",
       "      <td>17</td>\n",
       "      <td>24</td>\n",
       "      <td>1</td>\n",
       "      <td>5</td>\n",
       "      <td>2</td>\n",
       "      <td>...</td>\n",
       "      <td>NaN</td>\n",
       "      <td>0</td>\n",
       "      <td>Transient</td>\n",
       "      <td>103.67</td>\n",
       "      <td>0</td>\n",
       "      <td>1</td>\n",
       "      <td>Check-Out</td>\n",
       "      <td>2020-04-30</td>\n",
       "      <td>12.99</td>\n",
       "      <td>0.3</td>\n",
       "    </tr>\n",
       "    <tr>\n",
       "      <th>37018</th>\n",
       "      <td>City Hotel</td>\n",
       "      <td>1</td>\n",
       "      <td>99</td>\n",
       "      <td>2020</td>\n",
       "      <td>June</td>\n",
       "      <td>26</td>\n",
       "      <td>26</td>\n",
       "      <td>1</td>\n",
       "      <td>3</td>\n",
       "      <td>2</td>\n",
       "      <td>...</td>\n",
       "      <td>NaN</td>\n",
       "      <td>0</td>\n",
       "      <td>Transient</td>\n",
       "      <td>126.00</td>\n",
       "      <td>0</td>\n",
       "      <td>0</td>\n",
       "      <td>Canceled</td>\n",
       "      <td>2020-04-06</td>\n",
       "      <td>12.99</td>\n",
       "      <td>0.3</td>\n",
       "    </tr>\n",
       "  </tbody>\n",
       "</table>\n",
       "<p>5 rows × 34 columns</p>\n",
       "</div>"
      ],
      "text/plain": [
       "              hotel  is_canceled  lead_time  arrival_date_year  \\\n",
       "17846    City Hotel            0        235               2019   \n",
       "63792  Resort Hotel            0         26               2018   \n",
       "95082    City Hotel            1         15               2020   \n",
       "39822  Resort Hotel            0          9               2020   \n",
       "37018    City Hotel            1         99               2020   \n",
       "\n",
       "      arrival_date_month  arrival_date_week_number  arrival_date_day_of_month  \\\n",
       "17846             August                        32                          6   \n",
       "63792           November                        45                          7   \n",
       "95082           February                         7                         17   \n",
       "39822              April                        17                         24   \n",
       "37018               June                        26                         26   \n",
       "\n",
       "       stays_in_weekend_nights  stays_in_week_nights  adults  ...  company  \\\n",
       "17846                        1                     1       2  ...      NaN   \n",
       "63792                        2                     6       2  ...      NaN   \n",
       "95082                        0                     2       2  ...      NaN   \n",
       "39822                        1                     5       2  ...      NaN   \n",
       "37018                        1                     3       2  ...      NaN   \n",
       "\n",
       "       days_in_waiting_list    customer_type     adr  \\\n",
       "17846                     0  Transient-Party  105.30   \n",
       "63792                     0        Transient   56.00   \n",
       "95082                     0        Transient   95.00   \n",
       "39822                     0        Transient  103.67   \n",
       "37018                     0        Transient  126.00   \n",
       "\n",
       "      required_car_parking_spaces total_of_special_requests  \\\n",
       "17846                           1                         2   \n",
       "63792                           0                         1   \n",
       "95082                           0                         0   \n",
       "39822                           0                         1   \n",
       "37018                           0                         0   \n",
       "\n",
       "       reservation_status  reservation_status_date  meal_cost discount  \n",
       "17846           Check-Out               2019-08-08      12.99      0.3  \n",
       "63792           Check-Out               2018-11-15      12.99      0.1  \n",
       "95082            Canceled               2020-02-02      12.99      0.3  \n",
       "39822           Check-Out               2020-04-30      12.99      0.3  \n",
       "37018            Canceled               2020-04-06      12.99      0.3  \n",
       "\n",
       "[5 rows x 34 columns]"
      ]
     },
     "execution_count": 201,
     "metadata": {},
     "output_type": "execute_result"
    }
   ],
   "source": [
    "# display 5 random rows\n",
    "hotel.sample(5)"
   ]
  },
  {
   "cell_type": "markdown",
   "id": "64c4adc8",
   "metadata": {},
   "source": [
    "#### Adressing quality issues\n",
    "- Remove duplicated columns\n",
    "- Convert children column to integer\n",
    "- Convert agent to string\n",
    "- Convert company to string\n",
    "- Treat missing values appropriately for columns children, agent, company and country"
   ]
  },
  {
   "cell_type": "code",
   "execution_count": 202,
   "id": "d656e0d1",
   "metadata": {},
   "outputs": [
    {
     "data": {
      "text/plain": [
       "0"
      ]
     },
     "execution_count": 202,
     "metadata": {},
     "output_type": "execute_result"
    }
   ],
   "source": [
    "# removing duplicated rows\n",
    "hotel.drop_duplicates(inplace= True)\n",
    "#test\n",
    "hotel.duplicated().sum()"
   ]
  },
  {
   "cell_type": "code",
   "execution_count": 203,
   "id": "4adb6fc5",
   "metadata": {},
   "outputs": [
    {
     "data": {
      "text/plain": [
       "0"
      ]
     },
     "execution_count": 203,
     "metadata": {},
     "output_type": "execute_result"
    }
   ],
   "source": [
    "# children column fillna with 0.0\n",
    "hotel.children.fillna(value= 0.0, inplace=True)\n",
    "# test\n",
    "hotel.children.isnull().sum()"
   ]
  },
  {
   "cell_type": "code",
   "execution_count": 204,
   "id": "6ef1e95e",
   "metadata": {},
   "outputs": [
    {
     "name": "stdout",
     "output_type": "stream",
     "text": [
      "<class 'numpy.int32'>\n",
      "<class 'str'>\n",
      "<class 'str'>\n"
     ]
    }
   ],
   "source": [
    "# Convert children, agent and company to appropriate datatypes\n",
    "hotel.children = hotel.children.astype(int)\n",
    "hotel.agent = hotel.agent.astype(str)\n",
    "hotel.company = hotel.company.astype(str)\n",
    "#test\n",
    "print(type(hotel.children[0]))\n",
    "print(type(hotel.agent[0]))\n",
    "print(type(hotel.company[0]))"
   ]
  },
  {
   "cell_type": "code",
   "execution_count": 205,
   "id": "29a46178",
   "metadata": {},
   "outputs": [
    {
     "data": {
      "text/plain": [
       "0"
      ]
     },
     "execution_count": 205,
     "metadata": {},
     "output_type": "execute_result"
    }
   ],
   "source": [
    "#The agent column contains agent id of the agent that booked the hotel. Since we know that not all customers would use an agent,\n",
    "#it is safe to say that the null values are those customers that booked the hotel themselves without the aid of an agent. So we \n",
    "# would fill the agent column with none. Same applies to company as it contains id of company that booked or paid for booking.\n",
    "#For the country column we will simply fill with unknown as those customer probably didn't provide their country of origin.\n",
    "hotel.agent.fillna(value= 'none', inplace=True)\n",
    "hotel.company.fillna(value= 'none', inplace=True)\n",
    "hotel.country.fillna(value='unknown', inplace=True)\n",
    "#test\n",
    "hotel.isnull().sum().sum()"
   ]
  },
  {
   "cell_type": "code",
   "execution_count": 206,
   "id": "2db05f70",
   "metadata": {},
   "outputs": [],
   "source": [
    "hotel.to_csv('hotel_data_cleaned')"
   ]
  },
  {
   "cell_type": "code",
   "execution_count": 207,
   "id": "f3cfacc3",
   "metadata": {},
   "outputs": [
    {
     "name": "stdout",
     "output_type": "stream",
     "text": [
      "<class 'pandas.core.frame.DataFrame'>\n",
      "Int64Index: 100756 entries, 0 to 141946\n",
      "Data columns (total 34 columns):\n",
      " #   Column                          Non-Null Count   Dtype         \n",
      "---  ------                          --------------   -----         \n",
      " 0   hotel                           100756 non-null  object        \n",
      " 1   is_canceled                     100756 non-null  int64         \n",
      " 2   lead_time                       100756 non-null  int64         \n",
      " 3   arrival_date_year               100756 non-null  int64         \n",
      " 4   arrival_date_month              100756 non-null  object        \n",
      " 5   arrival_date_week_number        100756 non-null  int64         \n",
      " 6   arrival_date_day_of_month       100756 non-null  int64         \n",
      " 7   stays_in_weekend_nights         100756 non-null  int64         \n",
      " 8   stays_in_week_nights            100756 non-null  int64         \n",
      " 9   adults                          100756 non-null  int64         \n",
      " 10  children                        100756 non-null  int32         \n",
      " 11  babies                          100756 non-null  int64         \n",
      " 12  meal                            100756 non-null  object        \n",
      " 13  country                         100756 non-null  object        \n",
      " 14  market_segment                  100756 non-null  object        \n",
      " 15  distribution_channel            100756 non-null  object        \n",
      " 16  is_repeated_guest               100756 non-null  int64         \n",
      " 17  previous_cancellations          100756 non-null  int64         \n",
      " 18  previous_bookings_not_canceled  100756 non-null  int64         \n",
      " 19  reserved_room_type              100756 non-null  object        \n",
      " 20  assigned_room_type              100756 non-null  object        \n",
      " 21  booking_changes                 100756 non-null  int64         \n",
      " 22  deposit_type                    100756 non-null  object        \n",
      " 23  agent                           100756 non-null  object        \n",
      " 24  company                         100756 non-null  object        \n",
      " 25  days_in_waiting_list            100756 non-null  int64         \n",
      " 26  customer_type                   100756 non-null  object        \n",
      " 27  adr                             100756 non-null  float64       \n",
      " 28  required_car_parking_spaces     100756 non-null  int64         \n",
      " 29  total_of_special_requests       100756 non-null  int64         \n",
      " 30  reservation_status              100756 non-null  object        \n",
      " 31  reservation_status_date         100756 non-null  datetime64[ns]\n",
      " 32  meal_cost                       100756 non-null  float64       \n",
      " 33  discount                        100756 non-null  float64       \n",
      "dtypes: datetime64[ns](1), float64(3), int32(1), int64(16), object(13)\n",
      "memory usage: 28.5+ MB\n"
     ]
    }
   ],
   "source": [
    "hotel.info()"
   ]
  },
  {
   "cell_type": "code",
   "execution_count": 208,
   "id": "c2a1679b",
   "metadata": {},
   "outputs": [
    {
     "data": {
      "text/plain": [
       "Online TA        57356\n",
       "Offline TA/TO    17014\n",
       "Direct           13953\n",
       "Groups            6291\n",
       "Corporate         5057\n",
       "Complementary      854\n",
       "Aviation           227\n",
       "Undefined            4\n",
       "Name: market_segment, dtype: int64"
      ]
     },
     "execution_count": 208,
     "metadata": {},
     "output_type": "execute_result"
    }
   ],
   "source": [
    "hotel.market_segment.value_counts()"
   ]
  },
  {
   "cell_type": "code",
   "execution_count": 209,
   "id": "a53760cc",
   "metadata": {},
   "outputs": [
    {
     "data": {
      "text/html": [
       "<div>\n",
       "<style scoped>\n",
       "    .dataframe tbody tr th:only-of-type {\n",
       "        vertical-align: middle;\n",
       "    }\n",
       "\n",
       "    .dataframe tbody tr th {\n",
       "        vertical-align: top;\n",
       "    }\n",
       "\n",
       "    .dataframe thead th {\n",
       "        text-align: right;\n",
       "    }\n",
       "</style>\n",
       "<table border=\"1\" class=\"dataframe\">\n",
       "  <thead>\n",
       "    <tr style=\"text-align: right;\">\n",
       "      <th></th>\n",
       "      <th>is_canceled</th>\n",
       "      <th>lead_time</th>\n",
       "      <th>arrival_date_year</th>\n",
       "      <th>arrival_date_week_number</th>\n",
       "      <th>arrival_date_day_of_month</th>\n",
       "      <th>stays_in_weekend_nights</th>\n",
       "      <th>stays_in_week_nights</th>\n",
       "      <th>adults</th>\n",
       "      <th>children</th>\n",
       "      <th>babies</th>\n",
       "      <th>is_repeated_guest</th>\n",
       "      <th>previous_cancellations</th>\n",
       "      <th>previous_bookings_not_canceled</th>\n",
       "      <th>booking_changes</th>\n",
       "      <th>days_in_waiting_list</th>\n",
       "      <th>adr</th>\n",
       "      <th>required_car_parking_spaces</th>\n",
       "      <th>total_of_special_requests</th>\n",
       "      <th>meal_cost</th>\n",
       "      <th>discount</th>\n",
       "    </tr>\n",
       "  </thead>\n",
       "  <tbody>\n",
       "    <tr>\n",
       "      <th>count</th>\n",
       "      <td>100756.000000</td>\n",
       "      <td>100756.000000</td>\n",
       "      <td>100756.000000</td>\n",
       "      <td>100756.000000</td>\n",
       "      <td>100756.000000</td>\n",
       "      <td>100756.000000</td>\n",
       "      <td>100756.000000</td>\n",
       "      <td>100756.000000</td>\n",
       "      <td>100756.000000</td>\n",
       "      <td>100756.000000</td>\n",
       "      <td>100756.000000</td>\n",
       "      <td>100756.000000</td>\n",
       "      <td>100756.000000</td>\n",
       "      <td>100756.000000</td>\n",
       "      <td>100756.000000</td>\n",
       "      <td>100756.000000</td>\n",
       "      <td>100756.000000</td>\n",
       "      <td>100756.000000</td>\n",
       "      <td>100756.000000</td>\n",
       "      <td>100756.000000</td>\n",
       "    </tr>\n",
       "    <tr>\n",
       "      <th>mean</th>\n",
       "      <td>0.265751</td>\n",
       "      <td>77.081891</td>\n",
       "      <td>2019.182411</td>\n",
       "      <td>28.558369</td>\n",
       "      <td>15.783477</td>\n",
       "      <td>1.009588</td>\n",
       "      <td>2.642235</td>\n",
       "      <td>1.870181</td>\n",
       "      <td>0.133669</td>\n",
       "      <td>0.011592</td>\n",
       "      <td>0.037536</td>\n",
       "      <td>0.037467</td>\n",
       "      <td>0.166481</td>\n",
       "      <td>0.269661</td>\n",
       "      <td>0.774951</td>\n",
       "      <td>104.440868</td>\n",
       "      <td>0.086268</td>\n",
       "      <td>0.690937</td>\n",
       "      <td>15.661684</td>\n",
       "      <td>0.257983</td>\n",
       "    </tr>\n",
       "    <tr>\n",
       "      <th>std</th>\n",
       "      <td>0.441734</td>\n",
       "      <td>84.712909</td>\n",
       "      <td>0.642965</td>\n",
       "      <td>13.732939</td>\n",
       "      <td>8.800788</td>\n",
       "      <td>1.036013</td>\n",
       "      <td>2.068258</td>\n",
       "      <td>0.697073</td>\n",
       "      <td>0.449678</td>\n",
       "      <td>0.118819</td>\n",
       "      <td>0.190073</td>\n",
       "      <td>0.411409</td>\n",
       "      <td>1.623024</td>\n",
       "      <td>0.718399</td>\n",
       "      <td>9.851005</td>\n",
       "      <td>54.310694</td>\n",
       "      <td>0.284169</td>\n",
       "      <td>0.830966</td>\n",
       "      <td>6.658566</td>\n",
       "      <td>0.107611</td>\n",
       "    </tr>\n",
       "    <tr>\n",
       "      <th>min</th>\n",
       "      <td>0.000000</td>\n",
       "      <td>0.000000</td>\n",
       "      <td>2018.000000</td>\n",
       "      <td>1.000000</td>\n",
       "      <td>1.000000</td>\n",
       "      <td>0.000000</td>\n",
       "      <td>0.000000</td>\n",
       "      <td>0.000000</td>\n",
       "      <td>0.000000</td>\n",
       "      <td>0.000000</td>\n",
       "      <td>0.000000</td>\n",
       "      <td>0.000000</td>\n",
       "      <td>0.000000</td>\n",
       "      <td>0.000000</td>\n",
       "      <td>0.000000</td>\n",
       "      <td>-6.380000</td>\n",
       "      <td>0.000000</td>\n",
       "      <td>0.000000</td>\n",
       "      <td>0.000000</td>\n",
       "      <td>0.000000</td>\n",
       "    </tr>\n",
       "    <tr>\n",
       "      <th>25%</th>\n",
       "      <td>0.000000</td>\n",
       "      <td>10.000000</td>\n",
       "      <td>2019.000000</td>\n",
       "      <td>18.000000</td>\n",
       "      <td>8.000000</td>\n",
       "      <td>0.000000</td>\n",
       "      <td>1.000000</td>\n",
       "      <td>2.000000</td>\n",
       "      <td>0.000000</td>\n",
       "      <td>0.000000</td>\n",
       "      <td>0.000000</td>\n",
       "      <td>0.000000</td>\n",
       "      <td>0.000000</td>\n",
       "      <td>0.000000</td>\n",
       "      <td>0.000000</td>\n",
       "      <td>70.000000</td>\n",
       "      <td>0.000000</td>\n",
       "      <td>0.000000</td>\n",
       "      <td>12.990000</td>\n",
       "      <td>0.150000</td>\n",
       "    </tr>\n",
       "    <tr>\n",
       "      <th>50%</th>\n",
       "      <td>0.000000</td>\n",
       "      <td>46.000000</td>\n",
       "      <td>2019.000000</td>\n",
       "      <td>30.000000</td>\n",
       "      <td>16.000000</td>\n",
       "      <td>1.000000</td>\n",
       "      <td>2.000000</td>\n",
       "      <td>2.000000</td>\n",
       "      <td>0.000000</td>\n",
       "      <td>0.000000</td>\n",
       "      <td>0.000000</td>\n",
       "      <td>0.000000</td>\n",
       "      <td>0.000000</td>\n",
       "      <td>0.000000</td>\n",
       "      <td>0.000000</td>\n",
       "      <td>96.300000</td>\n",
       "      <td>0.000000</td>\n",
       "      <td>0.000000</td>\n",
       "      <td>12.990000</td>\n",
       "      <td>0.300000</td>\n",
       "    </tr>\n",
       "    <tr>\n",
       "      <th>75%</th>\n",
       "      <td>1.000000</td>\n",
       "      <td>119.000000</td>\n",
       "      <td>2020.000000</td>\n",
       "      <td>39.000000</td>\n",
       "      <td>23.000000</td>\n",
       "      <td>2.000000</td>\n",
       "      <td>4.000000</td>\n",
       "      <td>2.000000</td>\n",
       "      <td>0.000000</td>\n",
       "      <td>0.000000</td>\n",
       "      <td>0.000000</td>\n",
       "      <td>0.000000</td>\n",
       "      <td>0.000000</td>\n",
       "      <td>0.000000</td>\n",
       "      <td>0.000000</td>\n",
       "      <td>131.807500</td>\n",
       "      <td>0.000000</td>\n",
       "      <td>1.000000</td>\n",
       "      <td>12.990000</td>\n",
       "      <td>0.300000</td>\n",
       "    </tr>\n",
       "    <tr>\n",
       "      <th>max</th>\n",
       "      <td>1.000000</td>\n",
       "      <td>737.000000</td>\n",
       "      <td>2020.000000</td>\n",
       "      <td>53.000000</td>\n",
       "      <td>31.000000</td>\n",
       "      <td>19.000000</td>\n",
       "      <td>50.000000</td>\n",
       "      <td>55.000000</td>\n",
       "      <td>10.000000</td>\n",
       "      <td>10.000000</td>\n",
       "      <td>1.000000</td>\n",
       "      <td>26.000000</td>\n",
       "      <td>72.000000</td>\n",
       "      <td>21.000000</td>\n",
       "      <td>391.000000</td>\n",
       "      <td>5400.000000</td>\n",
       "      <td>8.000000</td>\n",
       "      <td>5.000000</td>\n",
       "      <td>35.000000</td>\n",
       "      <td>1.000000</td>\n",
       "    </tr>\n",
       "  </tbody>\n",
       "</table>\n",
       "</div>"
      ],
      "text/plain": [
       "         is_canceled      lead_time  arrival_date_year  \\\n",
       "count  100756.000000  100756.000000      100756.000000   \n",
       "mean        0.265751      77.081891        2019.182411   \n",
       "std         0.441734      84.712909           0.642965   \n",
       "min         0.000000       0.000000        2018.000000   \n",
       "25%         0.000000      10.000000        2019.000000   \n",
       "50%         0.000000      46.000000        2019.000000   \n",
       "75%         1.000000     119.000000        2020.000000   \n",
       "max         1.000000     737.000000        2020.000000   \n",
       "\n",
       "       arrival_date_week_number  arrival_date_day_of_month  \\\n",
       "count             100756.000000              100756.000000   \n",
       "mean                  28.558369                  15.783477   \n",
       "std                   13.732939                   8.800788   \n",
       "min                    1.000000                   1.000000   \n",
       "25%                   18.000000                   8.000000   \n",
       "50%                   30.000000                  16.000000   \n",
       "75%                   39.000000                  23.000000   \n",
       "max                   53.000000                  31.000000   \n",
       "\n",
       "       stays_in_weekend_nights  stays_in_week_nights         adults  \\\n",
       "count            100756.000000         100756.000000  100756.000000   \n",
       "mean                  1.009588              2.642235       1.870181   \n",
       "std                   1.036013              2.068258       0.697073   \n",
       "min                   0.000000              0.000000       0.000000   \n",
       "25%                   0.000000              1.000000       2.000000   \n",
       "50%                   1.000000              2.000000       2.000000   \n",
       "75%                   2.000000              4.000000       2.000000   \n",
       "max                  19.000000             50.000000      55.000000   \n",
       "\n",
       "            children         babies  is_repeated_guest  \\\n",
       "count  100756.000000  100756.000000      100756.000000   \n",
       "mean        0.133669       0.011592           0.037536   \n",
       "std         0.449678       0.118819           0.190073   \n",
       "min         0.000000       0.000000           0.000000   \n",
       "25%         0.000000       0.000000           0.000000   \n",
       "50%         0.000000       0.000000           0.000000   \n",
       "75%         0.000000       0.000000           0.000000   \n",
       "max        10.000000      10.000000           1.000000   \n",
       "\n",
       "       previous_cancellations  previous_bookings_not_canceled  \\\n",
       "count           100756.000000                   100756.000000   \n",
       "mean                 0.037467                        0.166481   \n",
       "std                  0.411409                        1.623024   \n",
       "min                  0.000000                        0.000000   \n",
       "25%                  0.000000                        0.000000   \n",
       "50%                  0.000000                        0.000000   \n",
       "75%                  0.000000                        0.000000   \n",
       "max                 26.000000                       72.000000   \n",
       "\n",
       "       booking_changes  days_in_waiting_list            adr  \\\n",
       "count    100756.000000         100756.000000  100756.000000   \n",
       "mean          0.269661              0.774951     104.440868   \n",
       "std           0.718399              9.851005      54.310694   \n",
       "min           0.000000              0.000000      -6.380000   \n",
       "25%           0.000000              0.000000      70.000000   \n",
       "50%           0.000000              0.000000      96.300000   \n",
       "75%           0.000000              0.000000     131.807500   \n",
       "max          21.000000            391.000000    5400.000000   \n",
       "\n",
       "       required_car_parking_spaces  total_of_special_requests      meal_cost  \\\n",
       "count                100756.000000              100756.000000  100756.000000   \n",
       "mean                      0.086268                   0.690937      15.661684   \n",
       "std                       0.284169                   0.830966       6.658566   \n",
       "min                       0.000000                   0.000000       0.000000   \n",
       "25%                       0.000000                   0.000000      12.990000   \n",
       "50%                       0.000000                   0.000000      12.990000   \n",
       "75%                       0.000000                   1.000000      12.990000   \n",
       "max                       8.000000                   5.000000      35.000000   \n",
       "\n",
       "            discount  \n",
       "count  100756.000000  \n",
       "mean        0.257983  \n",
       "std         0.107611  \n",
       "min         0.000000  \n",
       "25%         0.150000  \n",
       "50%         0.300000  \n",
       "75%         0.300000  \n",
       "max         1.000000  "
      ]
     },
     "execution_count": 209,
     "metadata": {},
     "output_type": "execute_result"
    }
   ],
   "source": [
    "hotel.describe()"
   ]
  },
  {
   "cell_type": "markdown",
   "id": "e4716abc",
   "metadata": {},
   "source": [
    "### Feauture Generation\n",
    "\n",
    "##### Create Revenue\n",
    "- amount = lodging_cost + meal_cost\n",
    "- lodging_cost = adr*(stays_in_weekend_nights + stays_in_week_nights)\n",
    "- discount_amt = discount * amount\n",
    "- revenue = amount - discount_amt"
   ]
  },
  {
   "cell_type": "code",
   "execution_count": 210,
   "id": "f9f2f7a9",
   "metadata": {},
   "outputs": [
    {
     "data": {
      "text/plain": [
       "0    246.0\n",
       "1    492.0\n",
       "2    749.0\n",
       "3    435.2\n",
       "4    435.2\n",
       "Name: lodging_cost, dtype: float64"
      ]
     },
     "execution_count": 210,
     "metadata": {},
     "output_type": "execute_result"
    }
   ],
   "source": [
    "# create lodging_cost\n",
    "hotel['lodging_cost'] = hotel.adr * (hotel.stays_in_weekend_nights + hotel.stays_in_week_nights)\n",
    "# test\n",
    "hotel.lodging_cost.head()"
   ]
  },
  {
   "cell_type": "code",
   "execution_count": 211,
   "id": "a2374976",
   "metadata": {},
   "outputs": [
    {
     "data": {
      "text/plain": [
       "0    258.99\n",
       "1    504.99\n",
       "2    761.99\n",
       "3    448.19\n",
       "4    448.19\n",
       "Name: amount, dtype: float64"
      ]
     },
     "execution_count": 211,
     "metadata": {},
     "output_type": "execute_result"
    }
   ],
   "source": [
    "# create amount\n",
    "hotel['amount'] = hotel.lodging_cost + hotel.meal_cost\n",
    "# test\n",
    "hotel.amount.head()"
   ]
  },
  {
   "cell_type": "code",
   "execution_count": 212,
   "id": "9ad560a8",
   "metadata": {},
   "outputs": [
    {
     "data": {
      "text/plain": [
       "0     77.697\n",
       "1    151.497\n",
       "2    228.597\n",
       "3    134.457\n",
       "4    134.457\n",
       "Name: discount_amt, dtype: float64"
      ]
     },
     "execution_count": 212,
     "metadata": {},
     "output_type": "execute_result"
    }
   ],
   "source": [
    "# create discount_amt\n",
    "hotel['discount_amt'] = hotel.discount * hotel.amount\n",
    "# test\n",
    "hotel.discount_amt.head()"
   ]
  },
  {
   "cell_type": "code",
   "execution_count": 213,
   "id": "f2082aab",
   "metadata": {
    "scrolled": true
   },
   "outputs": [
    {
     "data": {
      "text/plain": [
       "0    181.293\n",
       "1    353.493\n",
       "2    533.393\n",
       "3    313.733\n",
       "4    313.733\n",
       "Name: revenue, dtype: float64"
      ]
     },
     "execution_count": 213,
     "metadata": {},
     "output_type": "execute_result"
    }
   ],
   "source": [
    "# create revenue\n",
    "hotel['revenue'] = hotel.amount - hotel.discount_amt\n",
    "# test\n",
    "hotel.revenue.head()"
   ]
  },
  {
   "cell_type": "markdown",
   "id": "e4965238",
   "metadata": {},
   "source": [
    "##### Create arrival date\n",
    "Using the arrival_date_year, arrival_date_month and arrival_date_day_of_month, we create a datetime object of arrival date."
   ]
  },
  {
   "cell_type": "code",
   "execution_count": 214,
   "id": "5dca2427",
   "metadata": {},
   "outputs": [
    {
     "data": {
      "text/plain": [
       "0   2018-07-01\n",
       "1   2018-07-01\n",
       "2   2018-07-01\n",
       "3   2018-07-02\n",
       "4   2018-07-02\n",
       "Name: arrival_date, dtype: datetime64[ns]"
      ]
     },
     "execution_count": 214,
     "metadata": {},
     "output_type": "execute_result"
    }
   ],
   "source": [
    "mon_map = {'January': 1, 'February': 2, 'March': 3, 'April':4, 'May':5, 'June': 6, 'July': 7, 'August': 8, 'September': 9, 'October': 10, 'November':11,'December':12}\n",
    "year =  hotel.arrival_date_year\n",
    "month = map(lambda x: mon_map[x], hotel.arrival_date_month)\n",
    "day = hotel.arrival_date_day_of_month\n",
    "dt = pd.DataFrame({'year': year, 'month':list(month), 'day': day})\n",
    "hotel['arrival_date'] = pd.to_datetime(dt)\n",
    "# test\n",
    "hotel.arrival_date.head()"
   ]
  },
  {
   "cell_type": "markdown",
   "id": "a59d93a6",
   "metadata": {},
   "source": [
    "We would no longer need these columns  arrival_date_week_number, arrival_date_day_of_month"
   ]
  },
  {
   "cell_type": "code",
   "execution_count": 215,
   "id": "a0c51d75",
   "metadata": {},
   "outputs": [],
   "source": [
    "# drop the unneeded arrival columns\n",
    "hotel.drop(columns=[ 'arrival_date_week_number','arrival_date_day_of_month'], inplace=True)\n",
    "#test\n",
    "unneeded = ['arrival_date_week_number','arrival_date_day_of_month']\n",
    "for i in unneeded:\n",
    "   assert i not in hotel.columns "
   ]
  },
  {
   "cell_type": "markdown",
   "id": "933e7055",
   "metadata": {},
   "source": [
    "#### create desired_room_type\n",
    "create a variable to hold yes if guests were assigned the room they booked and no if not"
   ]
  },
  {
   "cell_type": "code",
   "execution_count": 243,
   "id": "694a90dd",
   "metadata": {},
   "outputs": [],
   "source": [
    "hotel['desired_room_type'] = np.where(hotel.reserved_room_type == hotel.assigned_room_type, 'Yes', 'No')\n"
   ]
  },
  {
   "cell_type": "markdown",
   "id": "cb17f39c",
   "metadata": {},
   "source": [
    "### Save the data to csv"
   ]
  },
  {
   "cell_type": "code",
   "execution_count": 216,
   "id": "39fdbcf6",
   "metadata": {},
   "outputs": [],
   "source": [
    "hotel.to_csv('hotel_with_rev')"
   ]
  },
  {
   "cell_type": "code",
   "execution_count": 217,
   "id": "925b4c26",
   "metadata": {},
   "outputs": [
    {
     "name": "stdout",
     "output_type": "stream",
     "text": [
      "<class 'pandas.core.frame.DataFrame'>\n",
      "Int64Index: 100756 entries, 0 to 141946\n",
      "Data columns (total 37 columns):\n",
      " #   Column                          Non-Null Count   Dtype         \n",
      "---  ------                          --------------   -----         \n",
      " 0   hotel                           100756 non-null  object        \n",
      " 1   is_canceled                     100756 non-null  int64         \n",
      " 2   lead_time                       100756 non-null  int64         \n",
      " 3   arrival_date_year               100756 non-null  int64         \n",
      " 4   arrival_date_month              100756 non-null  object        \n",
      " 5   stays_in_weekend_nights         100756 non-null  int64         \n",
      " 6   stays_in_week_nights            100756 non-null  int64         \n",
      " 7   adults                          100756 non-null  int64         \n",
      " 8   children                        100756 non-null  int32         \n",
      " 9   babies                          100756 non-null  int64         \n",
      " 10  meal                            100756 non-null  object        \n",
      " 11  country                         100756 non-null  object        \n",
      " 12  market_segment                  100756 non-null  object        \n",
      " 13  distribution_channel            100756 non-null  object        \n",
      " 14  is_repeated_guest               100756 non-null  int64         \n",
      " 15  previous_cancellations          100756 non-null  int64         \n",
      " 16  previous_bookings_not_canceled  100756 non-null  int64         \n",
      " 17  reserved_room_type              100756 non-null  object        \n",
      " 18  assigned_room_type              100756 non-null  object        \n",
      " 19  booking_changes                 100756 non-null  int64         \n",
      " 20  deposit_type                    100756 non-null  object        \n",
      " 21  agent                           100756 non-null  object        \n",
      " 22  company                         100756 non-null  object        \n",
      " 23  days_in_waiting_list            100756 non-null  int64         \n",
      " 24  customer_type                   100756 non-null  object        \n",
      " 25  adr                             100756 non-null  float64       \n",
      " 26  required_car_parking_spaces     100756 non-null  int64         \n",
      " 27  total_of_special_requests       100756 non-null  int64         \n",
      " 28  reservation_status              100756 non-null  object        \n",
      " 29  reservation_status_date         100756 non-null  datetime64[ns]\n",
      " 30  meal_cost                       100756 non-null  float64       \n",
      " 31  discount                        100756 non-null  float64       \n",
      " 32  lodging_cost                    100756 non-null  float64       \n",
      " 33  amount                          100756 non-null  float64       \n",
      " 34  discount_amt                    100756 non-null  float64       \n",
      " 35  revenue                         100756 non-null  float64       \n",
      " 36  arrival_date                    100756 non-null  datetime64[ns]\n",
      "dtypes: datetime64[ns](2), float64(7), int32(1), int64(14), object(13)\n",
      "memory usage: 30.8+ MB\n"
     ]
    }
   ],
   "source": [
    "hotel.info()"
   ]
  },
  {
   "cell_type": "markdown",
   "id": "43d47970",
   "metadata": {},
   "source": [
    "### Analysis"
   ]
  },
  {
   "cell_type": "markdown",
   "id": "bfdbf826",
   "metadata": {},
   "source": [
    "Q1. Is the hotel revenue growing pre year"
   ]
  },
  {
   "cell_type": "code",
   "execution_count": 218,
   "id": "927dffc2",
   "metadata": {},
   "outputs": [
    {
     "data": {
      "text/html": [
       "<div>\n",
       "<style scoped>\n",
       "    .dataframe tbody tr th:only-of-type {\n",
       "        vertical-align: middle;\n",
       "    }\n",
       "\n",
       "    .dataframe tbody tr th {\n",
       "        vertical-align: top;\n",
       "    }\n",
       "\n",
       "    .dataframe thead th {\n",
       "        text-align: right;\n",
       "    }\n",
       "</style>\n",
       "<table border=\"1\" class=\"dataframe\">\n",
       "  <thead>\n",
       "    <tr style=\"text-align: right;\">\n",
       "      <th></th>\n",
       "      <th>arrival_date_year</th>\n",
       "      <th>hotel</th>\n",
       "      <th>revenue</th>\n",
       "    </tr>\n",
       "  </thead>\n",
       "  <tbody>\n",
       "    <tr>\n",
       "      <th>0</th>\n",
       "      <td>2018</td>\n",
       "      <td>City Hotel</td>\n",
       "      <td>1.410843e+06</td>\n",
       "    </tr>\n",
       "    <tr>\n",
       "      <th>1</th>\n",
       "      <td>2018</td>\n",
       "      <td>Resort Hotel</td>\n",
       "      <td>2.415463e+06</td>\n",
       "    </tr>\n",
       "    <tr>\n",
       "      <th>2</th>\n",
       "      <td>2019</td>\n",
       "      <td>City Hotel</td>\n",
       "      <td>8.270367e+06</td>\n",
       "    </tr>\n",
       "    <tr>\n",
       "      <th>3</th>\n",
       "      <td>2019</td>\n",
       "      <td>Resort Hotel</td>\n",
       "      <td>7.292064e+06</td>\n",
       "    </tr>\n",
       "    <tr>\n",
       "      <th>4</th>\n",
       "      <td>2020</td>\n",
       "      <td>City Hotel</td>\n",
       "      <td>6.106859e+06</td>\n",
       "    </tr>\n",
       "    <tr>\n",
       "      <th>5</th>\n",
       "      <td>2020</td>\n",
       "      <td>Resort Hotel</td>\n",
       "      <td>4.794398e+06</td>\n",
       "    </tr>\n",
       "  </tbody>\n",
       "</table>\n",
       "</div>"
      ],
      "text/plain": [
       "   arrival_date_year         hotel       revenue\n",
       "0               2018    City Hotel  1.410843e+06\n",
       "1               2018  Resort Hotel  2.415463e+06\n",
       "2               2019    City Hotel  8.270367e+06\n",
       "3               2019  Resort Hotel  7.292064e+06\n",
       "4               2020    City Hotel  6.106859e+06\n",
       "5               2020  Resort Hotel  4.794398e+06"
      ]
     },
     "execution_count": 218,
     "metadata": {},
     "output_type": "execute_result"
    }
   ],
   "source": [
    "rev_year = hotel.groupby(['arrival_date_year', 'hotel'])['revenue'].sum()\n",
    "rev_year = rev_year.reset_index()\n",
    "rev_year"
   ]
  },
  {
   "cell_type": "code",
   "execution_count": 219,
   "id": "39267cb0",
   "metadata": {},
   "outputs": [
    {
     "data": {
      "text/plain": [
       "<AxesSubplot:xlabel='hotel', ylabel='revenue'>"
      ]
     },
     "execution_count": 219,
     "metadata": {},
     "output_type": "execute_result"
    },
    {
     "data": {
      "image/png": "[encoded data removed]",
      "text/plain": [
       "<Figure size 576x504 with 1 Axes>"
      ]
     },
     "metadata": {
      "needs_background": "light"
     },
     "output_type": "display_data"
    }
   ],
   "source": [
    "plt.figure(figsize=(8,7))\n",
    "sns.barplot(data=rev_year, x = 'hotel', y = 'revenue', hue ='arrival_date_year')"
   ]
  },
  {
   "cell_type": "markdown",
   "id": "db7e2715",
   "metadata": {},
   "source": [
    "Q2. How revenue grows over the months"
   ]
  },
  {
   "cell_type": "code",
   "execution_count": 260,
   "id": "56d547fe",
   "metadata": {},
   "outputs": [
    {
     "name": "stderr",
     "output_type": "stream",
     "text": [
      "C:\\Users\\osazu\\AppData\\Local\\Temp/ipykernel_9836/3136687609.py:1: FutureWarning: Indexing with multiple keys (implicitly converted to a tuple of keys) will be deprecated, use a list instead.\n",
      "  rev_mon = hotel.groupby(['arrival_date_year', 'arrival_date_month','hotel'])['required_car_parking_spaces','revenue'].sum()\n"
     ]
    },
    {
     "data": {
      "text/html": [
       "<div>\n",
       "<style scoped>\n",
       "    .dataframe tbody tr th:only-of-type {\n",
       "        vertical-align: middle;\n",
       "    }\n",
       "\n",
       "    .dataframe tbody tr th {\n",
       "        vertical-align: top;\n",
       "    }\n",
       "\n",
       "    .dataframe thead th {\n",
       "        text-align: right;\n",
       "    }\n",
       "</style>\n",
       "<table border=\"1\" class=\"dataframe\">\n",
       "  <thead>\n",
       "    <tr style=\"text-align: right;\">\n",
       "      <th></th>\n",
       "      <th>arrival_date_year</th>\n",
       "      <th>arrival_date_month</th>\n",
       "      <th>hotel</th>\n",
       "      <th>required_car_parking_spaces</th>\n",
       "      <th>revenue</th>\n",
       "    </tr>\n",
       "  </thead>\n",
       "  <tbody>\n",
       "    <tr>\n",
       "      <th>0</th>\n",
       "      <td>2018</td>\n",
       "      <td>August</td>\n",
       "      <td>City Hotel</td>\n",
       "      <td>48</td>\n",
       "      <td>2.211837e+05</td>\n",
       "    </tr>\n",
       "    <tr>\n",
       "      <th>1</th>\n",
       "      <td>2018</td>\n",
       "      <td>August</td>\n",
       "      <td>Resort Hotel</td>\n",
       "      <td>198</td>\n",
       "      <td>8.682786e+05</td>\n",
       "    </tr>\n",
       "    <tr>\n",
       "      <th>2</th>\n",
       "      <td>2018</td>\n",
       "      <td>December</td>\n",
       "      <td>City Hotel</td>\n",
       "      <td>68</td>\n",
       "      <td>2.123878e+05</td>\n",
       "    </tr>\n",
       "    <tr>\n",
       "      <th>3</th>\n",
       "      <td>2018</td>\n",
       "      <td>December</td>\n",
       "      <td>Resort Hotel</td>\n",
       "      <td>157</td>\n",
       "      <td>1.572343e+05</td>\n",
       "    </tr>\n",
       "    <tr>\n",
       "      <th>4</th>\n",
       "      <td>2018</td>\n",
       "      <td>July</td>\n",
       "      <td>City Hotel</td>\n",
       "      <td>1</td>\n",
       "      <td>7.416820e+04</td>\n",
       "    </tr>\n",
       "    <tr>\n",
       "      <th>5</th>\n",
       "      <td>2018</td>\n",
       "      <td>July</td>\n",
       "      <td>Resort Hotel</td>\n",
       "      <td>215</td>\n",
       "      <td>6.319011e+05</td>\n",
       "    </tr>\n",
       "    <tr>\n",
       "      <th>6</th>\n",
       "      <td>2018</td>\n",
       "      <td>November</td>\n",
       "      <td>City Hotel</td>\n",
       "      <td>25</td>\n",
       "      <td>1.480744e+05</td>\n",
       "    </tr>\n",
       "    <tr>\n",
       "      <th>7</th>\n",
       "      <td>2018</td>\n",
       "      <td>November</td>\n",
       "      <td>Resort Hotel</td>\n",
       "      <td>158</td>\n",
       "      <td>1.230082e+05</td>\n",
       "    </tr>\n",
       "    <tr>\n",
       "      <th>8</th>\n",
       "      <td>2018</td>\n",
       "      <td>October</td>\n",
       "      <td>City Hotel</td>\n",
       "      <td>27</td>\n",
       "      <td>3.352226e+05</td>\n",
       "    </tr>\n",
       "    <tr>\n",
       "      <th>9</th>\n",
       "      <td>2018</td>\n",
       "      <td>October</td>\n",
       "      <td>Resort Hotel</td>\n",
       "      <td>220</td>\n",
       "      <td>2.146258e+05</td>\n",
       "    </tr>\n",
       "    <tr>\n",
       "      <th>10</th>\n",
       "      <td>2018</td>\n",
       "      <td>September</td>\n",
       "      <td>City Hotel</td>\n",
       "      <td>29</td>\n",
       "      <td>4.198068e+05</td>\n",
       "    </tr>\n",
       "    <tr>\n",
       "      <th>11</th>\n",
       "      <td>2018</td>\n",
       "      <td>September</td>\n",
       "      <td>Resort Hotel</td>\n",
       "      <td>185</td>\n",
       "      <td>4.204150e+05</td>\n",
       "    </tr>\n",
       "    <tr>\n",
       "      <th>12</th>\n",
       "      <td>2019</td>\n",
       "      <td>April</td>\n",
       "      <td>City Hotel</td>\n",
       "      <td>86</td>\n",
       "      <td>5.874840e+05</td>\n",
       "    </tr>\n",
       "    <tr>\n",
       "      <th>13</th>\n",
       "      <td>2019</td>\n",
       "      <td>April</td>\n",
       "      <td>Resort Hotel</td>\n",
       "      <td>232</td>\n",
       "      <td>2.833390e+05</td>\n",
       "    </tr>\n",
       "    <tr>\n",
       "      <th>14</th>\n",
       "      <td>2019</td>\n",
       "      <td>August</td>\n",
       "      <td>City Hotel</td>\n",
       "      <td>275</td>\n",
       "      <td>1.101327e+06</td>\n",
       "    </tr>\n",
       "    <tr>\n",
       "      <th>15</th>\n",
       "      <td>2019</td>\n",
       "      <td>August</td>\n",
       "      <td>Resort Hotel</td>\n",
       "      <td>412</td>\n",
       "      <td>2.024255e+06</td>\n",
       "    </tr>\n",
       "    <tr>\n",
       "      <th>16</th>\n",
       "      <td>2019</td>\n",
       "      <td>December</td>\n",
       "      <td>City Hotel</td>\n",
       "      <td>128</td>\n",
       "      <td>7.185606e+05</td>\n",
       "    </tr>\n",
       "    <tr>\n",
       "      <th>17</th>\n",
       "      <td>2019</td>\n",
       "      <td>December</td>\n",
       "      <td>Resort Hotel</td>\n",
       "      <td>365</td>\n",
       "      <td>3.829925e+05</td>\n",
       "    </tr>\n",
       "    <tr>\n",
       "      <th>18</th>\n",
       "      <td>2019</td>\n",
       "      <td>February</td>\n",
       "      <td>City Hotel</td>\n",
       "      <td>76</td>\n",
       "      <td>3.256114e+05</td>\n",
       "    </tr>\n",
       "    <tr>\n",
       "      <th>19</th>\n",
       "      <td>2019</td>\n",
       "      <td>February</td>\n",
       "      <td>Resort Hotel</td>\n",
       "      <td>187</td>\n",
       "      <td>1.549664e+05</td>\n",
       "    </tr>\n",
       "    <tr>\n",
       "      <th>20</th>\n",
       "      <td>2019</td>\n",
       "      <td>January</td>\n",
       "      <td>City Hotel</td>\n",
       "      <td>57</td>\n",
       "      <td>1.856150e+05</td>\n",
       "    </tr>\n",
       "    <tr>\n",
       "      <th>21</th>\n",
       "      <td>2019</td>\n",
       "      <td>January</td>\n",
       "      <td>Resort Hotel</td>\n",
       "      <td>151</td>\n",
       "      <td>8.854882e+04</td>\n",
       "    </tr>\n",
       "    <tr>\n",
       "      <th>22</th>\n",
       "      <td>2019</td>\n",
       "      <td>July</td>\n",
       "      <td>City Hotel</td>\n",
       "      <td>148</td>\n",
       "      <td>8.035121e+05</td>\n",
       "    </tr>\n",
       "    <tr>\n",
       "      <th>23</th>\n",
       "      <td>2019</td>\n",
       "      <td>July</td>\n",
       "      <td>Resort Hotel</td>\n",
       "      <td>441</td>\n",
       "      <td>1.483536e+06</td>\n",
       "    </tr>\n",
       "    <tr>\n",
       "      <th>24</th>\n",
       "      <td>2019</td>\n",
       "      <td>June</td>\n",
       "      <td>City Hotel</td>\n",
       "      <td>88</td>\n",
       "      <td>5.692453e+05</td>\n",
       "    </tr>\n",
       "    <tr>\n",
       "      <th>25</th>\n",
       "      <td>2019</td>\n",
       "      <td>June</td>\n",
       "      <td>Resort Hotel</td>\n",
       "      <td>226</td>\n",
       "      <td>4.972337e+05</td>\n",
       "    </tr>\n",
       "    <tr>\n",
       "      <th>26</th>\n",
       "      <td>2019</td>\n",
       "      <td>March</td>\n",
       "      <td>City Hotel</td>\n",
       "      <td>111</td>\n",
       "      <td>5.296142e+05</td>\n",
       "    </tr>\n",
       "    <tr>\n",
       "      <th>27</th>\n",
       "      <td>2019</td>\n",
       "      <td>March</td>\n",
       "      <td>Resort Hotel</td>\n",
       "      <td>240</td>\n",
       "      <td>2.320453e+05</td>\n",
       "    </tr>\n",
       "    <tr>\n",
       "      <th>28</th>\n",
       "      <td>2019</td>\n",
       "      <td>May</td>\n",
       "      <td>City Hotel</td>\n",
       "      <td>80</td>\n",
       "      <td>6.129466e+05</td>\n",
       "    </tr>\n",
       "    <tr>\n",
       "      <th>29</th>\n",
       "      <td>2019</td>\n",
       "      <td>May</td>\n",
       "      <td>Resort Hotel</td>\n",
       "      <td>248</td>\n",
       "      <td>3.515564e+05</td>\n",
       "    </tr>\n",
       "    <tr>\n",
       "      <th>30</th>\n",
       "      <td>2019</td>\n",
       "      <td>November</td>\n",
       "      <td>City Hotel</td>\n",
       "      <td>92</td>\n",
       "      <td>6.658117e+05</td>\n",
       "    </tr>\n",
       "    <tr>\n",
       "      <th>31</th>\n",
       "      <td>2019</td>\n",
       "      <td>November</td>\n",
       "      <td>Resort Hotel</td>\n",
       "      <td>352</td>\n",
       "      <td>2.979534e+05</td>\n",
       "    </tr>\n",
       "    <tr>\n",
       "      <th>32</th>\n",
       "      <td>2019</td>\n",
       "      <td>October</td>\n",
       "      <td>City Hotel</td>\n",
       "      <td>110</td>\n",
       "      <td>1.026351e+06</td>\n",
       "    </tr>\n",
       "    <tr>\n",
       "      <th>33</th>\n",
       "      <td>2019</td>\n",
       "      <td>October</td>\n",
       "      <td>Resort Hotel</td>\n",
       "      <td>505</td>\n",
       "      <td>5.615452e+05</td>\n",
       "    </tr>\n",
       "    <tr>\n",
       "      <th>34</th>\n",
       "      <td>2019</td>\n",
       "      <td>September</td>\n",
       "      <td>City Hotel</td>\n",
       "      <td>127</td>\n",
       "      <td>1.144287e+06</td>\n",
       "    </tr>\n",
       "    <tr>\n",
       "      <th>35</th>\n",
       "      <td>2019</td>\n",
       "      <td>September</td>\n",
       "      <td>Resort Hotel</td>\n",
       "      <td>417</td>\n",
       "      <td>9.340924e+05</td>\n",
       "    </tr>\n",
       "    <tr>\n",
       "      <th>36</th>\n",
       "      <td>2020</td>\n",
       "      <td>April</td>\n",
       "      <td>City Hotel</td>\n",
       "      <td>73</td>\n",
       "      <td>8.535668e+05</td>\n",
       "    </tr>\n",
       "    <tr>\n",
       "      <th>37</th>\n",
       "      <td>2020</td>\n",
       "      <td>April</td>\n",
       "      <td>Resort Hotel</td>\n",
       "      <td>236</td>\n",
       "      <td>4.329570e+05</td>\n",
       "    </tr>\n",
       "    <tr>\n",
       "      <th>38</th>\n",
       "      <td>2020</td>\n",
       "      <td>August</td>\n",
       "      <td>City Hotel</td>\n",
       "      <td>92</td>\n",
       "      <td>9.967946e+05</td>\n",
       "    </tr>\n",
       "    <tr>\n",
       "      <th>39</th>\n",
       "      <td>2020</td>\n",
       "      <td>August</td>\n",
       "      <td>Resort Hotel</td>\n",
       "      <td>208</td>\n",
       "      <td>1.351583e+06</td>\n",
       "    </tr>\n",
       "    <tr>\n",
       "      <th>40</th>\n",
       "      <td>2020</td>\n",
       "      <td>February</td>\n",
       "      <td>City Hotel</td>\n",
       "      <td>55</td>\n",
       "      <td>4.752353e+05</td>\n",
       "    </tr>\n",
       "    <tr>\n",
       "      <th>41</th>\n",
       "      <td>2020</td>\n",
       "      <td>February</td>\n",
       "      <td>Resort Hotel</td>\n",
       "      <td>183</td>\n",
       "      <td>2.047588e+05</td>\n",
       "    </tr>\n",
       "    <tr>\n",
       "      <th>42</th>\n",
       "      <td>2020</td>\n",
       "      <td>January</td>\n",
       "      <td>City Hotel</td>\n",
       "      <td>77</td>\n",
       "      <td>4.282864e+05</td>\n",
       "    </tr>\n",
       "    <tr>\n",
       "      <th>43</th>\n",
       "      <td>2020</td>\n",
       "      <td>January</td>\n",
       "      <td>Resort Hotel</td>\n",
       "      <td>200</td>\n",
       "      <td>1.494941e+05</td>\n",
       "    </tr>\n",
       "    <tr>\n",
       "      <th>44</th>\n",
       "      <td>2020</td>\n",
       "      <td>July</td>\n",
       "      <td>City Hotel</td>\n",
       "      <td>59</td>\n",
       "      <td>9.352572e+05</td>\n",
       "    </tr>\n",
       "    <tr>\n",
       "      <th>45</th>\n",
       "      <td>2020</td>\n",
       "      <td>July</td>\n",
       "      <td>Resort Hotel</td>\n",
       "      <td>217</td>\n",
       "      <td>1.210261e+06</td>\n",
       "    </tr>\n",
       "    <tr>\n",
       "      <th>46</th>\n",
       "      <td>2020</td>\n",
       "      <td>June</td>\n",
       "      <td>City Hotel</td>\n",
       "      <td>60</td>\n",
       "      <td>8.725794e+05</td>\n",
       "    </tr>\n",
       "    <tr>\n",
       "      <th>47</th>\n",
       "      <td>2020</td>\n",
       "      <td>June</td>\n",
       "      <td>Resort Hotel</td>\n",
       "      <td>235</td>\n",
       "      <td>7.148870e+05</td>\n",
       "    </tr>\n",
       "    <tr>\n",
       "      <th>48</th>\n",
       "      <td>2020</td>\n",
       "      <td>March</td>\n",
       "      <td>City Hotel</td>\n",
       "      <td>62</td>\n",
       "      <td>5.837642e+05</td>\n",
       "    </tr>\n",
       "    <tr>\n",
       "      <th>49</th>\n",
       "      <td>2020</td>\n",
       "      <td>March</td>\n",
       "      <td>Resort Hotel</td>\n",
       "      <td>175</td>\n",
       "      <td>2.599829e+05</td>\n",
       "    </tr>\n",
       "    <tr>\n",
       "      <th>50</th>\n",
       "      <td>2020</td>\n",
       "      <td>May</td>\n",
       "      <td>City Hotel</td>\n",
       "      <td>47</td>\n",
       "      <td>9.613750e+05</td>\n",
       "    </tr>\n",
       "    <tr>\n",
       "      <th>51</th>\n",
       "      <td>2020</td>\n",
       "      <td>May</td>\n",
       "      <td>Resort Hotel</td>\n",
       "      <td>228</td>\n",
       "      <td>4.704744e+05</td>\n",
       "    </tr>\n",
       "  </tbody>\n",
       "</table>\n",
       "</div>"
      ],
      "text/plain": [
       "    arrival_date_year arrival_date_month         hotel  \\\n",
       "0                2018             August    City Hotel   \n",
       "1                2018             August  Resort Hotel   \n",
       "2                2018           December    City Hotel   \n",
       "3                2018           December  Resort Hotel   \n",
       "4                2018               July    City Hotel   \n",
       "5                2018               July  Resort Hotel   \n",
       "6                2018           November    City Hotel   \n",
       "7                2018           November  Resort Hotel   \n",
       "8                2018            October    City Hotel   \n",
       "9                2018            October  Resort Hotel   \n",
       "10               2018          September    City Hotel   \n",
       "11               2018          September  Resort Hotel   \n",
       "12               2019              April    City Hotel   \n",
       "13               2019              April  Resort Hotel   \n",
       "14               2019             August    City Hotel   \n",
       "15               2019             August  Resort Hotel   \n",
       "16               2019           December    City Hotel   \n",
       "17               2019           December  Resort Hotel   \n",
       "18               2019           February    City Hotel   \n",
       "19               2019           February  Resort Hotel   \n",
       "20               2019            January    City Hotel   \n",
       "21               2019            January  Resort Hotel   \n",
       "22               2019               July    City Hotel   \n",
       "23               2019               July  Resort Hotel   \n",
       "24               2019               June    City Hotel   \n",
       "25               2019               June  Resort Hotel   \n",
       "26               2019              March    City Hotel   \n",
       "27               2019              March  Resort Hotel   \n",
       "28               2019                May    City Hotel   \n",
       "29               2019                May  Resort Hotel   \n",
       "30               2019           November    City Hotel   \n",
       "31               2019           November  Resort Hotel   \n",
       "32               2019            October    City Hotel   \n",
       "33               2019            October  Resort Hotel   \n",
       "34               2019          September    City Hotel   \n",
       "35               2019          September  Resort Hotel   \n",
       "36               2020              April    City Hotel   \n",
       "37               2020              April  Resort Hotel   \n",
       "38               2020             August    City Hotel   \n",
       "39               2020             August  Resort Hotel   \n",
       "40               2020           February    City Hotel   \n",
       "41               2020           February  Resort Hotel   \n",
       "42               2020            January    City Hotel   \n",
       "43               2020            January  Resort Hotel   \n",
       "44               2020               July    City Hotel   \n",
       "45               2020               July  Resort Hotel   \n",
       "46               2020               June    City Hotel   \n",
       "47               2020               June  Resort Hotel   \n",
       "48               2020              March    City Hotel   \n",
       "49               2020              March  Resort Hotel   \n",
       "50               2020                May    City Hotel   \n",
       "51               2020                May  Resort Hotel   \n",
       "\n",
       "    required_car_parking_spaces       revenue  \n",
       "0                            48  2.211837e+05  \n",
       "1                           198  8.682786e+05  \n",
       "2                            68  2.123878e+05  \n",
       "3                           157  1.572343e+05  \n",
       "4                             1  7.416820e+04  \n",
       "5                           215  6.319011e+05  \n",
       "6                            25  1.480744e+05  \n",
       "7                           158  1.230082e+05  \n",
       "8                            27  3.352226e+05  \n",
       "9                           220  2.146258e+05  \n",
       "10                           29  4.198068e+05  \n",
       "11                          185  4.204150e+05  \n",
       "12                           86  5.874840e+05  \n",
       "13                          232  2.833390e+05  \n",
       "14                          275  1.101327e+06  \n",
       "15                          412  2.024255e+06  \n",
       "16                          128  7.185606e+05  \n",
       "17                          365  3.829925e+05  \n",
       "18                           76  3.256114e+05  \n",
       "19                          187  1.549664e+05  \n",
       "20                           57  1.856150e+05  \n",
       "21                          151  8.854882e+04  \n",
       "22                          148  8.035121e+05  \n",
       "23                          441  1.483536e+06  \n",
       "24                           88  5.692453e+05  \n",
       "25                          226  4.972337e+05  \n",
       "26                          111  5.296142e+05  \n",
       "27                          240  2.320453e+05  \n",
       "28                           80  6.129466e+05  \n",
       "29                          248  3.515564e+05  \n",
       "30                           92  6.658117e+05  \n",
       "31                          352  2.979534e+05  \n",
       "32                          110  1.026351e+06  \n",
       "33                          505  5.615452e+05  \n",
       "34                          127  1.144287e+06  \n",
       "35                          417  9.340924e+05  \n",
       "36                           73  8.535668e+05  \n",
       "37                          236  4.329570e+05  \n",
       "38                           92  9.967946e+05  \n",
       "39                          208  1.351583e+06  \n",
       "40                           55  4.752353e+05  \n",
       "41                          183  2.047588e+05  \n",
       "42                           77  4.282864e+05  \n",
       "43                          200  1.494941e+05  \n",
       "44                           59  9.352572e+05  \n",
       "45                          217  1.210261e+06  \n",
       "46                           60  8.725794e+05  \n",
       "47                          235  7.148870e+05  \n",
       "48                           62  5.837642e+05  \n",
       "49                          175  2.599829e+05  \n",
       "50                           47  9.613750e+05  \n",
       "51                          228  4.704744e+05  "
      ]
     },
     "execution_count": 260,
     "metadata": {},
     "output_type": "execute_result"
    }
   ],
   "source": [
    "rev_mon = hotel.groupby(['arrival_date_year', 'arrival_date_month','hotel'])['required_car_parking_spaces','revenue'].sum()\n",
    "rev_mon = rev_mon.reset_index()\n",
    "rev_mon"
   ]
  },
  {
   "cell_type": "code",
   "execution_count": 261,
   "id": "80d4ecc5",
   "metadata": {},
   "outputs": [
    {
     "data": {
      "text/plain": [
       "array(['August', 'December', 'July', 'November', 'October', 'September',\n",
       "       'April', 'February', 'January', 'June', 'March', 'May'],\n",
       "      dtype=object)"
      ]
     },
     "execution_count": 261,
     "metadata": {},
     "output_type": "execute_result"
    }
   ],
   "source": [
    "rev_mon.arrival_date_month.unique()"
   ]
  },
  {
   "cell_type": "code",
   "execution_count": 262,
   "id": "3523ddb2",
   "metadata": {},
   "outputs": [],
   "source": [
    "\n",
    "mon_map = {'January': 1, 'February': 2, 'March': 3, 'April':4, 'May':5, 'June': 6, 'July': 7, 'August': 8, 'September': 9, 'October': 10, 'November':11,'December':12}\n",
    "year =  rev_mon.arrival_date_year\n",
    "month = map(lambda x: mon_map[x], rev_mon.arrival_date_month)\n",
    "dt = pd.DataFrame({'year': year, 'month':list(month), 'day':1})\n",
    "rev_mon['arrival_date'] = pd.to_datetime(dt)"
   ]
  },
  {
   "cell_type": "code",
   "execution_count": 263,
   "id": "9bf69dda",
   "metadata": {
    "scrolled": false
   },
   "outputs": [
    {
     "data": {
      "text/plain": [
       "<AxesSubplot:xlabel='arrival_date', ylabel='revenue'>"
      ]
     },
     "execution_count": 263,
     "metadata": {},
     "output_type": "execute_result"
    },
    {
     "data": {
      "image/png": "[encoded data removed]",
      "text/plain": [
       "<Figure size 1080x504 with 1 Axes>"
      ]
     },
     "metadata": {
      "needs_background": "light"
     },
     "output_type": "display_data"
    }
   ],
   "source": [
    "plt.figure(figsize= (15, 7))\n",
    "sns.lineplot(data= rev_mon, x = 'arrival_date', y = 'revenue', hue = 'hotel')"
   ]
  },
  {
   "cell_type": "code",
   "execution_count": null,
   "id": "e256c7d7",
   "metadata": {},
   "outputs": [],
   "source": []
  },
  {
   "cell_type": "code",
   "execution_count": 225,
   "id": "066a8cdb",
   "metadata": {
    "scrolled": false
   },
   "outputs": [
    {
     "data": {
      "text/plain": [
       "<AxesSubplot:xlabel='arrival_date', ylabel='revenue'>"
      ]
     },
     "execution_count": 225,
     "metadata": {},
     "output_type": "execute_result"
    },
    {
     "data": {
      "image/png": "[encoded data removed]",
      "text/plain": [
       "<Figure size 1080x504 with 1 Axes>"
      ]
     },
     "metadata": {
      "needs_background": "light"
     },
     "output_type": "display_data"
    }
   ],
   "source": [
    "plt.figure(figsize= (15, 7))\n",
    "sns.lineplot(data= hotel, x = 'arrival_date', y = 'revenue', hue = 'hotel')"
   ]
  },
  {
   "cell_type": "markdown",
   "id": "f227d94e",
   "metadata": {},
   "source": [
    "Q3. Should Parking slot be increased?"
   ]
  },
  {
   "cell_type": "code",
   "execution_count": 250,
   "id": "26ed7710",
   "metadata": {},
   "outputs": [
    {
     "name": "stdout",
     "output_type": "stream",
     "text": [
      "<class 'pandas.core.frame.DataFrame'>\n",
      "Int64Index: 100756 entries, 0 to 141946\n",
      "Data columns (total 38 columns):\n",
      " #   Column                          Non-Null Count   Dtype         \n",
      "---  ------                          --------------   -----         \n",
      " 0   hotel                           100756 non-null  object        \n",
      " 1   is_canceled                     100756 non-null  int64         \n",
      " 2   lead_time                       100756 non-null  int64         \n",
      " 3   arrival_date_year               100756 non-null  int64         \n",
      " 4   arrival_date_month              100756 non-null  object        \n",
      " 5   stays_in_weekend_nights         100756 non-null  int64         \n",
      " 6   stays_in_week_nights            100756 non-null  int64         \n",
      " 7   adults                          100756 non-null  int64         \n",
      " 8   children                        100756 non-null  int32         \n",
      " 9   babies                          100756 non-null  int64         \n",
      " 10  meal                            100756 non-null  object        \n",
      " 11  country                         100756 non-null  object        \n",
      " 12  market_segment                  100756 non-null  object        \n",
      " 13  distribution_channel            100756 non-null  object        \n",
      " 14  is_repeated_guest               100756 non-null  int64         \n",
      " 15  previous_cancellations          100756 non-null  int64         \n",
      " 16  previous_bookings_not_canceled  100756 non-null  int64         \n",
      " 17  reserved_room_type              100756 non-null  object        \n",
      " 18  assigned_room_type              100756 non-null  object        \n",
      " 19  booking_changes                 100756 non-null  int64         \n",
      " 20  deposit_type                    100756 non-null  object        \n",
      " 21  agent                           100756 non-null  object        \n",
      " 22  company                         100756 non-null  object        \n",
      " 23  days_in_waiting_list            100756 non-null  int64         \n",
      " 24  customer_type                   100756 non-null  object        \n",
      " 25  adr                             100756 non-null  float64       \n",
      " 26  required_car_parking_spaces     100756 non-null  int64         \n",
      " 27  total_of_special_requests       100756 non-null  int64         \n",
      " 28  reservation_status              100756 non-null  object        \n",
      " 29  reservation_status_date         100756 non-null  datetime64[ns]\n",
      " 30  meal_cost                       100756 non-null  float64       \n",
      " 31  discount                        100756 non-null  float64       \n",
      " 32  lodging_cost                    100756 non-null  float64       \n",
      " 33  amount                          100756 non-null  float64       \n",
      " 34  discount_amt                    100756 non-null  float64       \n",
      " 35  revenue                         100756 non-null  float64       \n",
      " 36  arrival_date                    100756 non-null  datetime64[ns]\n",
      " 37  desired_room_type               100756 non-null  object        \n",
      "dtypes: datetime64[ns](2), float64(7), int32(1), int64(14), object(14)\n",
      "memory usage: 31.6+ MB\n"
     ]
    }
   ],
   "source": [
    "hotel.info()"
   ]
  },
  {
   "cell_type": "code",
   "execution_count": 251,
   "id": "a242143e",
   "metadata": {
    "scrolled": false
   },
   "outputs": [
    {
     "data": {
      "text/plain": [
       "<AxesSubplot:xlabel='arrival_date', ylabel='required_car_parking_spaces'>"
      ]
     },
     "execution_count": 251,
     "metadata": {},
     "output_type": "execute_result"
    },
    {
     "data": {
      "image/png": "[encoded data removed]",
      "text/plain": [
       "<Figure size 1080x504 with 1 Axes>"
      ]
     },
     "metadata": {
      "needs_background": "light"
     },
     "output_type": "display_data"
    }
   ],
   "source": [
    "plt.figure(figsize= (15, 7))\n",
    "sns.lineplot(data= rev_mon, x = 'arrival_date', y = 'required_car_parking_spaces', hue = 'hotel')"
   ]
  },
  {
   "cell_type": "markdown",
   "id": "19c7dff6",
   "metadata": {},
   "source": [
    "#### Q4. How frequent is customer demand changed?"
   ]
  },
  {
   "cell_type": "code",
   "execution_count": 256,
   "id": "5082ba7a",
   "metadata": {
    "scrolled": true
   },
   "outputs": [
    {
     "data": {
      "text/plain": [
       "<AxesSubplot:xlabel='desired_room_type', ylabel='count'>"
      ]
     },
     "execution_count": 256,
     "metadata": {},
     "output_type": "execute_result"
    },
    {
     "data": {
      "image/png": "[encoded data removed]",
      "text/plain": [
       "<Figure size 432x288 with 1 Axes>"
      ]
     },
     "metadata": {
      "needs_background": "light"
     },
     "output_type": "display_data"
    }
   ],
   "source": [
    "sns.countplot(data = hotel, x= 'desired_room_type', hue = 'hotel')"
   ]
  },
  {
   "cell_type": "code",
   "execution_count": 259,
   "id": "42886b74",
   "metadata": {},
   "outputs": [
    {
     "data": {
      "text/plain": [
       "Index(['arrival_date_year', 'arrival_date_month', 'hotel',\n",
       "       'required_car_parking_spaces', 'revenue'],\n",
       "      dtype='object')"
      ]
     },
     "execution_count": 259,
     "metadata": {},
     "output_type": "execute_result"
    }
   ],
   "source": [
    "rev_mon.columns"
   ]
  },
  {
   "cell_type": "code",
   "execution_count": 276,
   "id": "62b27d4b",
   "metadata": {
    "scrolled": true
   },
   "outputs": [
    {
     "data": {
      "text/html": [
       "<div>\n",
       "<style scoped>\n",
       "    .dataframe tbody tr th:only-of-type {\n",
       "        vertical-align: middle;\n",
       "    }\n",
       "\n",
       "    .dataframe tbody tr th {\n",
       "        vertical-align: top;\n",
       "    }\n",
       "\n",
       "    .dataframe thead th {\n",
       "        text-align: right;\n",
       "    }\n",
       "</style>\n",
       "<table border=\"1\" class=\"dataframe\">\n",
       "  <thead>\n",
       "    <tr style=\"text-align: right;\">\n",
       "      <th></th>\n",
       "      <th>arrival_date_year</th>\n",
       "      <th>arrival_date_month</th>\n",
       "      <th>desired_room_type</th>\n",
       "      <th>hotel</th>\n",
       "    </tr>\n",
       "  </thead>\n",
       "  <tbody>\n",
       "    <tr>\n",
       "      <th>0</th>\n",
       "      <td>2018</td>\n",
       "      <td>August</td>\n",
       "      <td>No</td>\n",
       "      <td>475</td>\n",
       "    </tr>\n",
       "    <tr>\n",
       "      <th>1</th>\n",
       "      <td>2018</td>\n",
       "      <td>August</td>\n",
       "      <td>Yes</td>\n",
       "      <td>1978</td>\n",
       "    </tr>\n",
       "  </tbody>\n",
       "</table>\n",
       "</div>"
      ],
      "text/plain": [
       "   arrival_date_year arrival_date_month desired_room_type  hotel\n",
       "0               2018             August                No    475\n",
       "1               2018             August               Yes   1978"
      ]
     },
     "execution_count": 276,
     "metadata": {},
     "output_type": "execute_result"
    }
   ],
   "source": [
    "focus = hotel[['arrival_date_year', 'arrival_date_month', 'desired_room_type', 'hotel', ]]\n",
    "desired = focus.groupby(['arrival_date_year', 'arrival_date_month', 'desired_room_type']).count()\n",
    "desired = desired.reset_index()\n",
    "desired.head(2)"
   ]
  },
  {
   "cell_type": "code",
   "execution_count": 277,
   "id": "b3e000d9",
   "metadata": {},
   "outputs": [],
   "source": [
    "\n",
    "#mon_map = {'January': 1, 'February': 2, 'March': 3, 'April':4, 'May':5, 'June': 6, 'July': 7, 'August': 8, 'September': 9, 'October': 10, 'November':11,'December':12}\n",
    "year =  desired.arrival_date_year\n",
    "month = map(lambda x: mon_map[x], desired.arrival_date_month)\n",
    "dt = pd.DataFrame({'year': year, 'month':list(month), 'day':1})\n",
    "desired['arrival_date'] = pd.to_datetime(dt)"
   ]
  },
  {
   "cell_type": "code",
   "execution_count": 278,
   "id": "9f2118ff",
   "metadata": {},
   "outputs": [
    {
     "data": {
      "text/html": [
       "<div>\n",
       "<style scoped>\n",
       "    .dataframe tbody tr th:only-of-type {\n",
       "        vertical-align: middle;\n",
       "    }\n",
       "\n",
       "    .dataframe tbody tr th {\n",
       "        vertical-align: top;\n",
       "    }\n",
       "\n",
       "    .dataframe thead th {\n",
       "        text-align: right;\n",
       "    }\n",
       "</style>\n",
       "<table border=\"1\" class=\"dataframe\">\n",
       "  <thead>\n",
       "    <tr style=\"text-align: right;\">\n",
       "      <th></th>\n",
       "      <th>arrival_date_year</th>\n",
       "      <th>arrival_date_month</th>\n",
       "      <th>desired_room_type</th>\n",
       "      <th>hotel</th>\n",
       "      <th>arrival_date</th>\n",
       "    </tr>\n",
       "  </thead>\n",
       "  <tbody>\n",
       "    <tr>\n",
       "      <th>0</th>\n",
       "      <td>2018</td>\n",
       "      <td>August</td>\n",
       "      <td>No</td>\n",
       "      <td>475</td>\n",
       "      <td>2018-08-01</td>\n",
       "    </tr>\n",
       "    <tr>\n",
       "      <th>1</th>\n",
       "      <td>2018</td>\n",
       "      <td>August</td>\n",
       "      <td>Yes</td>\n",
       "      <td>1978</td>\n",
       "      <td>2018-08-01</td>\n",
       "    </tr>\n",
       "    <tr>\n",
       "      <th>2</th>\n",
       "      <td>2018</td>\n",
       "      <td>December</td>\n",
       "      <td>No</td>\n",
       "      <td>450</td>\n",
       "      <td>2018-12-01</td>\n",
       "    </tr>\n",
       "    <tr>\n",
       "      <th>3</th>\n",
       "      <td>2018</td>\n",
       "      <td>December</td>\n",
       "      <td>Yes</td>\n",
       "      <td>1532</td>\n",
       "      <td>2018-12-01</td>\n",
       "    </tr>\n",
       "    <tr>\n",
       "      <th>4</th>\n",
       "      <td>2018</td>\n",
       "      <td>July</td>\n",
       "      <td>No</td>\n",
       "      <td>293</td>\n",
       "      <td>2018-07-01</td>\n",
       "    </tr>\n",
       "  </tbody>\n",
       "</table>\n",
       "</div>"
      ],
      "text/plain": [
       "   arrival_date_year arrival_date_month desired_room_type  hotel arrival_date\n",
       "0               2018             August                No    475   2018-08-01\n",
       "1               2018             August               Yes   1978   2018-08-01\n",
       "2               2018           December                No    450   2018-12-01\n",
       "3               2018           December               Yes   1532   2018-12-01\n",
       "4               2018               July                No    293   2018-07-01"
      ]
     },
     "execution_count": 278,
     "metadata": {},
     "output_type": "execute_result"
    }
   ],
   "source": [
    "desired.head()"
   ]
  },
  {
   "cell_type": "code",
   "execution_count": 286,
   "id": "0fc22f98",
   "metadata": {},
   "outputs": [
    {
     "data": {
      "text/plain": [
       "<AxesSubplot:xlabel='arrival_date', ylabel='hotel'>"
      ]
     },
     "execution_count": 286,
     "metadata": {},
     "output_type": "execute_result"
    },
    {
     "data": {
      "image/png": "[encoded data removed]",
      "text/plain": [
       "<Figure size 864x504 with 1 Axes>"
      ]
     },
     "metadata": {
      "needs_background": "light"
     },
     "output_type": "display_data"
    }
   ],
   "source": [
    "plt.figure(figsize=(12,7))\n",
    "sns.lineplot(data=desired, x = 'arrival_date', y = 'hotel', hue='desired_room_type')"
   ]
  },
  {
   "cell_type": "markdown",
   "id": "8fa04d5e",
   "metadata": {},
   "source": [
    "#### Q5. How number of reservation and assigned room type varies for the various room type "
   ]
  },
  {
   "cell_type": "code",
   "execution_count": 348,
   "id": "0fe6fe2d",
   "metadata": {},
   "outputs": [
    {
     "data": {
      "text/plain": [
       "array(['A', 'E', 'D', 'G', 'F', 'H', 'C', 'B', 'P', 'L'], dtype=object)"
      ]
     },
     "execution_count": 348,
     "metadata": {},
     "output_type": "execute_result"
    }
   ],
   "source": [
    "hotel.reserved_room_type.unique()"
   ]
  },
  {
   "cell_type": "code",
   "execution_count": 349,
   "id": "54ae22c4",
   "metadata": {},
   "outputs": [
    {
     "data": {
      "text/html": [
       "<div>\n",
       "<style scoped>\n",
       "    .dataframe tbody tr th:only-of-type {\n",
       "        vertical-align: middle;\n",
       "    }\n",
       "\n",
       "    .dataframe tbody tr th {\n",
       "        vertical-align: top;\n",
       "    }\n",
       "\n",
       "    .dataframe thead th {\n",
       "        text-align: right;\n",
       "    }\n",
       "</style>\n",
       "<table border=\"1\" class=\"dataframe\">\n",
       "  <thead>\n",
       "    <tr style=\"text-align: right;\">\n",
       "      <th></th>\n",
       "      <th>index</th>\n",
       "      <th>reserved_room_type</th>\n",
       "      <th>assigned_room_type</th>\n",
       "    </tr>\n",
       "  </thead>\n",
       "  <tbody>\n",
       "    <tr>\n",
       "      <th>0</th>\n",
       "      <td>A</td>\n",
       "      <td>65918.0</td>\n",
       "      <td>53178</td>\n",
       "    </tr>\n",
       "    <tr>\n",
       "      <th>1</th>\n",
       "      <td>D</td>\n",
       "      <td>19404.0</td>\n",
       "      <td>25710</td>\n",
       "    </tr>\n",
       "    <tr>\n",
       "      <th>2</th>\n",
       "      <td>E</td>\n",
       "      <td>6953.0</td>\n",
       "      <td>8428</td>\n",
       "    </tr>\n",
       "    <tr>\n",
       "      <th>3</th>\n",
       "      <td>F</td>\n",
       "      <td>3186.0</td>\n",
       "      <td>4230</td>\n",
       "    </tr>\n",
       "    <tr>\n",
       "      <th>4</th>\n",
       "      <td>G</td>\n",
       "      <td>2318.0</td>\n",
       "      <td>2882</td>\n",
       "    </tr>\n",
       "    <tr>\n",
       "      <th>5</th>\n",
       "      <td>B</td>\n",
       "      <td>1196.0</td>\n",
       "      <td>2203</td>\n",
       "    </tr>\n",
       "    <tr>\n",
       "      <th>6</th>\n",
       "      <td>C</td>\n",
       "      <td>1085.0</td>\n",
       "      <td>2579</td>\n",
       "    </tr>\n",
       "    <tr>\n",
       "      <th>7</th>\n",
       "      <td>H</td>\n",
       "      <td>678.0</td>\n",
       "      <td>831</td>\n",
       "    </tr>\n",
       "    <tr>\n",
       "      <th>8</th>\n",
       "      <td>L</td>\n",
       "      <td>12.0</td>\n",
       "      <td>2</td>\n",
       "    </tr>\n",
       "    <tr>\n",
       "      <th>9</th>\n",
       "      <td>P</td>\n",
       "      <td>6.0</td>\n",
       "      <td>6</td>\n",
       "    </tr>\n",
       "    <tr>\n",
       "      <th>10</th>\n",
       "      <td>I</td>\n",
       "      <td>NaN</td>\n",
       "      <td>402</td>\n",
       "    </tr>\n",
       "    <tr>\n",
       "      <th>11</th>\n",
       "      <td>K</td>\n",
       "      <td>NaN</td>\n",
       "      <td>305</td>\n",
       "    </tr>\n",
       "  </tbody>\n",
       "</table>\n",
       "</div>"
      ],
      "text/plain": [
       "   index  reserved_room_type  assigned_room_type\n",
       "0      A             65918.0               53178\n",
       "1      D             19404.0               25710\n",
       "2      E              6953.0                8428\n",
       "3      F              3186.0                4230\n",
       "4      G              2318.0                2882\n",
       "5      B              1196.0                2203\n",
       "6      C              1085.0                2579\n",
       "7      H               678.0                 831\n",
       "8      L                12.0                   2\n",
       "9      P                 6.0                   6\n",
       "10     I                 NaN                 402\n",
       "11     K                 NaN                 305"
      ]
     },
     "execution_count": 349,
     "metadata": {},
     "output_type": "execute_result"
    }
   ],
   "source": [
    "booked_type = hotel.reserved_room_type.value_counts()\n",
    "assigned_type = hotel.assigned_room_type.value_counts()\n",
    "room_type = pd.concat([booked_type, assigned_type], axis=1)\n",
    "room_type.reset_index()"
   ]
  },
  {
   "cell_type": "code",
   "execution_count": 350,
   "id": "4d59c059",
   "metadata": {},
   "outputs": [
    {
     "data": {
      "text/html": [
       "<div>\n",
       "<style scoped>\n",
       "    .dataframe tbody tr th:only-of-type {\n",
       "        vertical-align: middle;\n",
       "    }\n",
       "\n",
       "    .dataframe tbody tr th {\n",
       "        vertical-align: top;\n",
       "    }\n",
       "\n",
       "    .dataframe thead th {\n",
       "        text-align: right;\n",
       "    }\n",
       "</style>\n",
       "<table border=\"1\" class=\"dataframe\">\n",
       "  <thead>\n",
       "    <tr style=\"text-align: right;\">\n",
       "      <th></th>\n",
       "      <th>reserved_room_type</th>\n",
       "      <th>assigned_room_type</th>\n",
       "    </tr>\n",
       "  </thead>\n",
       "  <tbody>\n",
       "    <tr>\n",
       "      <th>A</th>\n",
       "      <td>65918</td>\n",
       "      <td>53178</td>\n",
       "    </tr>\n",
       "    <tr>\n",
       "      <th>D</th>\n",
       "      <td>19404</td>\n",
       "      <td>25710</td>\n",
       "    </tr>\n",
       "    <tr>\n",
       "      <th>E</th>\n",
       "      <td>6953</td>\n",
       "      <td>8428</td>\n",
       "    </tr>\n",
       "    <tr>\n",
       "      <th>F</th>\n",
       "      <td>3186</td>\n",
       "      <td>4230</td>\n",
       "    </tr>\n",
       "    <tr>\n",
       "      <th>G</th>\n",
       "      <td>2318</td>\n",
       "      <td>2882</td>\n",
       "    </tr>\n",
       "    <tr>\n",
       "      <th>B</th>\n",
       "      <td>1196</td>\n",
       "      <td>2203</td>\n",
       "    </tr>\n",
       "    <tr>\n",
       "      <th>C</th>\n",
       "      <td>1085</td>\n",
       "      <td>2579</td>\n",
       "    </tr>\n",
       "    <tr>\n",
       "      <th>H</th>\n",
       "      <td>678</td>\n",
       "      <td>831</td>\n",
       "    </tr>\n",
       "    <tr>\n",
       "      <th>L</th>\n",
       "      <td>12</td>\n",
       "      <td>2</td>\n",
       "    </tr>\n",
       "    <tr>\n",
       "      <th>P</th>\n",
       "      <td>6</td>\n",
       "      <td>6</td>\n",
       "    </tr>\n",
       "    <tr>\n",
       "      <th>I</th>\n",
       "      <td>0</td>\n",
       "      <td>402</td>\n",
       "    </tr>\n",
       "    <tr>\n",
       "      <th>K</th>\n",
       "      <td>0</td>\n",
       "      <td>305</td>\n",
       "    </tr>\n",
       "  </tbody>\n",
       "</table>\n",
       "</div>"
      ],
      "text/plain": [
       "   reserved_room_type  assigned_room_type\n",
       "A               65918               53178\n",
       "D               19404               25710\n",
       "E                6953                8428\n",
       "F                3186                4230\n",
       "G                2318                2882\n",
       "B                1196                2203\n",
       "C                1085                2579\n",
       "H                 678                 831\n",
       "L                  12                   2\n",
       "P                   6                   6\n",
       "I                   0                 402\n",
       "K                   0                 305"
      ]
     },
     "execution_count": 350,
     "metadata": {},
     "output_type": "execute_result"
    }
   ],
   "source": [
    "room_type.fillna(value= 0, inplace= True)\n",
    "room_type.reserved_room_type = room_type.reserved_room_type.astype(int)\n",
    "room_type"
   ]
  },
  {
   "cell_type": "code",
   "execution_count": 351,
   "id": "f2a6887e",
   "metadata": {},
   "outputs": [
    {
     "data": {
      "image/png": "[encoded data removed]",
      "text/plain": [
       "<Figure size 720x504 with 1 Axes>"
      ]
     },
     "metadata": {
      "needs_background": "light"
     },
     "output_type": "display_data"
    }
   ],
   "source": [
    "width = 0.8\n",
    "plt.figure(figsize= (10, 7))\n",
    "plt.bar(room_type.index, room_type.reserved_room_type, width=width, \n",
    "        color='b', label='Reserved room type')\n",
    "plt.bar(room_type.index, room_type.assigned_room_type, \n",
    "        width=0.5*width, color='r', alpha=0.5, label='Assigned room type')\n",
    "\n",
    "#plt.xticks(room_type.index+width/2., ['T{}'.format(i) for i in range(len(room_type.reserved_room_type))] )\n",
    "\n",
    "\n",
    "plt.legend()\n",
    "\n",
    "plt.show()"
   ]
  },
  {
   "cell_type": "markdown",
   "id": "66fb1477",
   "metadata": {},
   "source": [
    "#### market segment"
   ]
  },
  {
   "cell_type": "code",
   "execution_count": 352,
   "id": "c91511b9",
   "metadata": {},
   "outputs": [
    {
     "data": {
      "text/plain": [
       "array(['Online TA', 'Direct', 'Offline TA/TO', 'Corporate', 'Groups',\n",
       "       'Complementary', 'Undefined', 'Aviation'], dtype=object)"
      ]
     },
     "execution_count": 352,
     "metadata": {},
     "output_type": "execute_result"
    }
   ],
   "source": [
    "hotel.market_segment.unique()"
   ]
  },
  {
   "cell_type": "code",
   "execution_count": 356,
   "id": "3d04e725",
   "metadata": {},
   "outputs": [
    {
     "data": {
      "text/plain": [
       "0    Resort Hotel\n",
       "1    Resort Hotel\n",
       "2    Resort Hotel\n",
       "3    Resort Hotel\n",
       "4    Resort Hotel\n",
       "Name: hotel, dtype: object"
      ]
     },
     "execution_count": 356,
     "metadata": {},
     "output_type": "execute_result"
    }
   ],
   "source": [
    "hotel.hotel.head()"
   ]
  },
  {
   "cell_type": "code",
   "execution_count": 366,
   "id": "d121e75a",
   "metadata": {
    "scrolled": false
   },
   "outputs": [],
   "source": [
    "mkseg = hotel.groupby(['market_segment','hotel'])['revenue'].sum()\n",
    "mkseg = mkseg.reset_index()"
   ]
  },
  {
   "cell_type": "code",
   "execution_count": 368,
   "id": "d0a27a31",
   "metadata": {},
   "outputs": [
    {
     "data": {
      "text/plain": [
       "<AxesSubplot:xlabel='market_segment', ylabel='revenue'>"
      ]
     },
     "execution_count": 368,
     "metadata": {},
     "output_type": "execute_result"
    },
    {
     "data": {
      "image/png": "[encoded data removed]",
      "text/plain": [
       "<Figure size 720x504 with 1 Axes>"
      ]
     },
     "metadata": {
      "needs_background": "light"
     },
     "output_type": "display_data"
    }
   ],
   "source": [
    "plt.figure(figsize=(10,7))\n",
    "sns.barplot(data=mkseg, x='market_segment', y= 'revenue', hue = 'hotel')"
   ]
  },
  {
   "cell_type": "code",
   "execution_count": 397,
   "id": "f221597c",
   "metadata": {},
   "outputs": [],
   "source": [
    "agents_df = hotel.groupby(['arrival_date_year','hotel','market_segment'])['agent'].count()\n",
    "agents_df = agents_df.reset_index()\n"
   ]
  },
  {
   "cell_type": "code",
   "execution_count": 398,
   "id": "b1bf75a2",
   "metadata": {
    "scrolled": false
   },
   "outputs": [
    {
     "data": {
      "text/plain": [
       "<AxesSubplot:xlabel='market_segment', ylabel='agent'>"
      ]
     },
     "execution_count": 398,
     "metadata": {},
     "output_type": "execute_result"
    },
    {
     "data": {
      "image/png": "[encoded data removed]",
      "text/plain": [
       "<Figure size 864x432 with 1 Axes>"
      ]
     },
     "metadata": {
      "needs_background": "light"
     },
     "output_type": "display_data"
    }
   ],
   "source": [
    "plt.figure(figsize=(12,6))\n",
    "sns.barplot(data=agents_df.query('arrival_date_year == 2019'), y = 'agent',  hue = 'hotel', x = 'market_segment')"
   ]
  },
  {
   "cell_type": "markdown",
   "id": "9c7c7a9d",
   "metadata": {},
   "source": [
    "#### customer type"
   ]
  },
  {
   "cell_type": "code",
   "execution_count": 400,
   "id": "15fb2a55",
   "metadata": {},
   "outputs": [
    {
     "data": {
      "text/plain": [
       "array(['Transient', 'Transient-Party', 'Group', 'Contract'], dtype=object)"
      ]
     },
     "execution_count": 400,
     "metadata": {},
     "output_type": "execute_result"
    }
   ],
   "source": [
    "hotel.customer_type.unique()"
   ]
  },
  {
   "cell_type": "code",
   "execution_count": 413,
   "id": "f9bfc4f0",
   "metadata": {},
   "outputs": [
    {
     "ename": "KeyError",
     "evalue": "'Column not found: index'",
     "output_type": "error",
     "traceback": [
      "\u001b[1;31m---------------------------------------------------------------------------\u001b[0m",
      "\u001b[1;31mKeyError\u001b[0m                                  Traceback (most recent call last)",
      "\u001b[1;32m~\\AppData\\Local\\Temp/ipykernel_9836/1402745586.py\u001b[0m in \u001b[0;36m<module>\u001b[1;34m\u001b[0m\n\u001b[1;32m----> 1\u001b[1;33m \u001b[0mcustype\u001b[0m \u001b[1;33m=\u001b[0m \u001b[0mhotel\u001b[0m\u001b[1;33m.\u001b[0m\u001b[0mgroupby\u001b[0m\u001b[1;33m(\u001b[0m\u001b[1;33m[\u001b[0m\u001b[1;34m'hotel'\u001b[0m\u001b[1;33m,\u001b[0m\u001b[1;34m'customer_type'\u001b[0m\u001b[1;33m]\u001b[0m\u001b[1;33m)\u001b[0m\u001b[1;33m[\u001b[0m\u001b[1;34m'index'\u001b[0m\u001b[1;33m]\u001b[0m\u001b[1;33m.\u001b[0m\u001b[0mcount\u001b[0m\u001b[1;33m(\u001b[0m\u001b[1;33m)\u001b[0m\u001b[1;33m\u001b[0m\u001b[1;33m\u001b[0m\u001b[0m\n\u001b[0m\u001b[0;32m      2\u001b[0m \u001b[0mcustype\u001b[0m\u001b[1;33m.\u001b[0m\u001b[0mreset_index\u001b[0m\u001b[1;33m(\u001b[0m\u001b[1;33m)\u001b[0m\u001b[1;33m\u001b[0m\u001b[1;33m\u001b[0m\u001b[0m\n",
      "\u001b[1;32m~\\anaconda3\\lib\\site-packages\\pandas\\core\\groupby\\generic.py\u001b[0m in \u001b[0;36m__getitem__\u001b[1;34m(self, key)\u001b[0m\n\u001b[0;32m   1536\u001b[0m                 \u001b[0mstacklevel\u001b[0m\u001b[1;33m=\u001b[0m\u001b[1;36m2\u001b[0m\u001b[1;33m,\u001b[0m\u001b[1;33m\u001b[0m\u001b[1;33m\u001b[0m\u001b[0m\n\u001b[0;32m   1537\u001b[0m             )\n\u001b[1;32m-> 1538\u001b[1;33m         \u001b[1;32mreturn\u001b[0m \u001b[0msuper\u001b[0m\u001b[1;33m(\u001b[0m\u001b[1;33m)\u001b[0m\u001b[1;33m.\u001b[0m\u001b[0m__getitem__\u001b[0m\u001b[1;33m(\u001b[0m\u001b[0mkey\u001b[0m\u001b[1;33m)\u001b[0m\u001b[1;33m\u001b[0m\u001b[1;33m\u001b[0m\u001b[0m\n\u001b[0m\u001b[0;32m   1539\u001b[0m \u001b[1;33m\u001b[0m\u001b[0m\n\u001b[0;32m   1540\u001b[0m     \u001b[1;32mdef\u001b[0m \u001b[0m_gotitem\u001b[0m\u001b[1;33m(\u001b[0m\u001b[0mself\u001b[0m\u001b[1;33m,\u001b[0m \u001b[0mkey\u001b[0m\u001b[1;33m,\u001b[0m \u001b[0mndim\u001b[0m\u001b[1;33m:\u001b[0m \u001b[0mint\u001b[0m\u001b[1;33m,\u001b[0m \u001b[0msubset\u001b[0m\u001b[1;33m=\u001b[0m\u001b[1;32mNone\u001b[0m\u001b[1;33m)\u001b[0m\u001b[1;33m:\u001b[0m\u001b[1;33m\u001b[0m\u001b[1;33m\u001b[0m\u001b[0m\n",
      "\u001b[1;32m~\\anaconda3\\lib\\site-packages\\pandas\\core\\base.py\u001b[0m in \u001b[0;36m__getitem__\u001b[1;34m(self, key)\u001b[0m\n\u001b[0;32m    230\u001b[0m         \u001b[1;32melse\u001b[0m\u001b[1;33m:\u001b[0m\u001b[1;33m\u001b[0m\u001b[1;33m\u001b[0m\u001b[0m\n\u001b[0;32m    231\u001b[0m             \u001b[1;32mif\u001b[0m \u001b[0mkey\u001b[0m \u001b[1;32mnot\u001b[0m \u001b[1;32min\u001b[0m \u001b[0mself\u001b[0m\u001b[1;33m.\u001b[0m\u001b[0mobj\u001b[0m\u001b[1;33m:\u001b[0m\u001b[1;33m\u001b[0m\u001b[1;33m\u001b[0m\u001b[0m\n\u001b[1;32m--> 232\u001b[1;33m                 \u001b[1;32mraise\u001b[0m \u001b[0mKeyError\u001b[0m\u001b[1;33m(\u001b[0m\u001b[1;34mf\"Column not found: {key}\"\u001b[0m\u001b[1;33m)\u001b[0m\u001b[1;33m\u001b[0m\u001b[1;33m\u001b[0m\u001b[0m\n\u001b[0m\u001b[0;32m    233\u001b[0m             \u001b[0msubset\u001b[0m \u001b[1;33m=\u001b[0m \u001b[0mself\u001b[0m\u001b[1;33m.\u001b[0m\u001b[0mobj\u001b[0m\u001b[1;33m[\u001b[0m\u001b[0mkey\u001b[0m\u001b[1;33m]\u001b[0m\u001b[1;33m\u001b[0m\u001b[1;33m\u001b[0m\u001b[0m\n\u001b[0;32m    234\u001b[0m             \u001b[0mndim\u001b[0m \u001b[1;33m=\u001b[0m \u001b[0msubset\u001b[0m\u001b[1;33m.\u001b[0m\u001b[0mndim\u001b[0m\u001b[1;33m\u001b[0m\u001b[1;33m\u001b[0m\u001b[0m\n",
      "\u001b[1;31mKeyError\u001b[0m: 'Column not found: index'"
     ]
    }
   ],
   "source": [
    "custype = hotel.groupby(['hotel','customer_type'])['index'].count()\n",
    "custype.reset_index()"
   ]
  },
  {
   "cell_type": "code",
   "execution_count": null,
   "id": "16f36aae",
   "metadata": {},
   "outputs": [],
   "source": []
  }
 ],
 "metadata": {
  "kernelspec": {
   "display_name": "Python 3 (ipykernel)",
   "language": "python",
   "name": "python3"
  },
  "language_info": {
   "codemirror_mode": {
    "name": "ipython",
    "version": 3
   },
   "file_extension": ".py",
   "mimetype": "text/x-python",
   "name": "python",
   "nbconvert_exporter": "python",
   "pygments_lexer": "ipython3",
   "version": "3.9.7"
  }
 },
 "nbformat": 4,
 "nbformat_minor": 5
}
